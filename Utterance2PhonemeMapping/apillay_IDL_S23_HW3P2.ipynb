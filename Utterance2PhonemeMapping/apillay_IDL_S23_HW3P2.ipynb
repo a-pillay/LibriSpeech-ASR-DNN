{
 "cells": [
  {
   "cell_type": "markdown",
   "source": [
    "#apillay HW3P2 Notebook\n",
    "\n",
    "Note: This notebook version corresponds to run v3090-tc460-pb2.2_resume+config_change+augment but with its config modified a bit (like reduced batch size) to run inference on my laptop's GPU. The code is however exactly the same as my final run listed below\n",
    "\n",
    "WanDB link: https://wandb.ai/audio-idl/hw3p2-ablations?workspace=user-apillay\n",
    "Please find the following runs used to track the training for this work:\n",
    "1. v3090-tc100-pb2.2+embed_656: Trained from scratch on train-clean-100\n",
    "2. v3090-tc460-pb2.2_resume-3.6: Trained from previous model's best checkpoint on train-clean-460\n",
    "3. v3090-tc460-pb2.2_resume+config_change+augment: Trained from previous model's best checkpoint on increased data augmentation and lesser dropout/weight decay factors\n",
    "4. v3090-tc460-pb2.2_resume2+config_change+augment: Trained from previous model's best checkpoint as the VM crashed\n",
    "5. v3090-tc460-pb2.2_resume2_2.4+augmentations: Trained from previous model's best checkpoint with increased data augmentation factors\n",
    "6. v3090-tc460-pb2.2_resume3_2.3: Trained from previous model's best checkpoint as I discovered my model had room to get a better score on Kaggle lol\n",
    "\n",
    "Instructions to run the code:\n",
    "Run all cells in the following sequence!"
   ],
   "metadata": {
    "collapsed": false
   }
  },
  {
   "cell_type": "markdown",
   "source": [
    "# Installs"
   ],
   "metadata": {
    "collapsed": false
   }
  },
  {
   "cell_type": "markdown",
   "metadata": {
    "id": "ONgAWhqdoYy-"
   },
   "source": [
    "### Levenshtein\n",
    "\n",
    "This may take a while"
   ]
  },
  {
   "cell_type": "code",
   "execution_count": null,
   "metadata": {
    "id": "SS7a7xeEoaV9",
    "scrolled": true
   },
   "outputs": [],
   "source": [
    "!pip install wandb --quiet\n",
    "!pip install python-Levenshtein -q\n",
    "!git clone --recursive https://github.com/parlance/ctcdecode.git\n",
    "!pip install wget -q\n",
    "%cd ctcdecode\n",
    "!pip install . -q\n",
    "%cd ..\n",
    "\n",
    "!pip install --upgrade --force-reinstall torchsummaryX\n",
    "!pip install pytorch-nlp\n",
    "!pip install slugify\n",
    "!pip install matplotlib\n",
    "!pip install --upgrade --force-reinstall pandas\n",
    "!pip install torchinfo"
   ]
  },
  {
   "cell_type": "markdown",
   "metadata": {
    "id": "IWVONJxCobPc"
   },
   "source": [
    "## Imports"
   ]
  },
  {
   "cell_type": "code",
   "execution_count": 1,
   "metadata": {
    "colab": {
     "base_uri": "https://localhost:8080/"
    },
    "id": "78ZTCIXoof2f",
    "outputId": "b741123a-7a4a-4558-a8c2-08f8a8121d81"
   },
   "outputs": [
    {
     "name": "stdout",
     "output_type": "stream",
     "text": [
      "Device:  cuda\n"
     ]
    }
   ],
   "source": [
    "import torch\n",
    "import numpy as np\n",
    "import torch.nn as nn\n",
    "import torchnlp.nn\n",
    "from torch.utils.data import Dataset\n",
    "from torch.nn.utils.rnn import pad_sequence, pack_padded_sequence, pad_packed_sequence\n",
    "from torchinfo import summary\n",
    "\n",
    "import torchaudio.transforms as tat\n",
    "\n",
    "import gc\n",
    "\n",
    "import pandas as pd\n",
    "from tqdm import tqdm\n",
    "import os\n",
    "\n",
    "# imports for decoding and distance calculation\n",
    "import Levenshtein\n",
    "from ctcdecode import CTCBeamDecoder\n",
    "\n",
    "import warnings\n",
    "\n",
    "warnings.filterwarnings('ignore')\n",
    "\n",
    "device = 'cuda' if torch.cuda.is_available() else 'cpu'\n",
    "print(\"Device: \", device)"
   ]
  },
  {
   "cell_type": "code",
   "execution_count": 2,
   "metadata": {
    "id": "aOBCsPhr8J_E"
   },
   "outputs": [
    {
     "name": "stdout",
     "output_type": "stream",
     "text": [
      "Fri Apr  7 17:08:34 2023       \r\n",
      "+---------------------------------------------------------------------------------------+\r\n",
      "| NVIDIA-SMI 530.41.03              Driver Version: 530.41.03    CUDA Version: 12.1     |\r\n",
      "|-----------------------------------------+----------------------+----------------------+\r\n",
      "| GPU  Name                  Persistence-M| Bus-Id        Disp.A | Volatile Uncorr. ECC |\r\n",
      "| Fan  Temp  Perf            Pwr:Usage/Cap|         Memory-Usage | GPU-Util  Compute M. |\r\n",
      "|                                         |                      |               MIG M. |\r\n",
      "|=========================================+======================+======================|\r\n",
      "|   0  NVIDIA GeForce RTX 3070 L...    Off| 00000000:01:00.0 Off |                  N/A |\r\n",
      "| N/A   42C    P3               N/A /  N/A|      8MiB /  8192MiB |      0%      Default |\r\n",
      "|                                         |                      |                  N/A |\r\n",
      "+-----------------------------------------+----------------------+----------------------+\r\n",
      "                                                                                         \r\n",
      "+---------------------------------------------------------------------------------------+\r\n",
      "| Processes:                                                                            |\r\n",
      "|  GPU   GI   CI        PID   Type   Process name                            GPU Memory |\r\n",
      "|        ID   ID                                                             Usage      |\r\n",
      "|=======================================================================================|\r\n",
      "|    0   N/A  N/A       686      G   /usr/lib/Xorg                                 4MiB |\r\n",
      "+---------------------------------------------------------------------------------------+\r\n",
      "\r\n",
      "==============NVSMI LOG==============\r\n",
      "\r\n",
      "Timestamp                                 : Fri Apr  7 17:08:34 2023\r\n",
      "Driver Version                            : 530.41.03\r\n",
      "CUDA Version                              : 12.1\r\n",
      "\r\n",
      "Attached GPUs                             : 1\r\n",
      "GPU 00000000:01:00.0\r\n",
      "    Power Readings\r\n",
      "        Power Management                  : N/A\r\n",
      "        Power Draw                        : 25.94 W\r\n",
      "        Power Limit                       : N/A\r\n",
      "        Default Power Limit               : N/A\r\n",
      "        Enforced Power Limit              : N/A\r\n",
      "        Min Power Limit                   : N/A\r\n",
      "        Max Power Limit                   : N/A\r\n",
      "    Power Samples\r\n",
      "        Duration                          : Not Found\r\n",
      "        Number of Samples                 : Not Found\r\n",
      "        Max                               : Not Found\r\n",
      "        Min                               : Not Found\r\n",
      "        Avg                               : Not Found\r\n",
      "\r\n"
     ]
    }
   ],
   "source": [
    "!nvidia-smi\n",
    "!nvidia-smi -q -d POWER"
   ]
  },
  {
   "cell_type": "markdown",
   "metadata": {
    "id": "gg3-yJ8tok34"
   },
   "source": [
    "# Kaggle Setup"
   ]
  },
  {
   "cell_type": "code",
   "execution_count": null,
   "metadata": {
    "id": "AdUelfGhom1m"
   },
   "outputs": [],
   "source": [
    "!pip install --upgrade --force-reinstall --no-deps kaggle==1.5.8\n",
    "!rm -rf /root/.kaggle\n",
    "!mkdir /root/.kaggle\n",
    "\n",
    "with open(\"/root/.kaggle/kaggle.json\", \"w+\") as f:\n",
    "    f.write('{\"username\":\"ashwinpillay\",\"key\":\"<api>\"}')\n",
    "    # Put your kaggle username & key here\n",
    "\n",
    "!chmod 600 /root/.kaggle/kaggle.json"
   ]
  },
  {
   "cell_type": "code",
   "execution_count": null,
   "metadata": {
    "id": "dSjBwfXeoq4B"
   },
   "outputs": [],
   "source": [
    "!kaggle competitions download -c 11-785-s23-hw3p2"
   ]
  },
  {
   "cell_type": "code",
   "execution_count": null,
   "metadata": {
    "id": "juPR8XSTFRH5"
   },
   "outputs": [],
   "source": [
    "!sudo apt-get install zip unzip"
   ]
  },
  {
   "cell_type": "code",
   "execution_count": null,
   "metadata": {
    "id": "_ruxWP60LCQA"
   },
   "outputs": [],
   "source": [
    "'''\n",
    "This will take a couple minutes, but you should see at least the following:\n",
    "11-785-f22-hw3p2.zip  ctcdecode  hw3p2\n",
    "'''\n",
    "!unzip -q 11-785-s23-hw3p2.zip\n",
    "!ls"
   ]
  },
  {
   "cell_type": "markdown",
   "metadata": {},
   "source": [
    "# Config"
   ]
  },
  {
   "cell_type": "code",
   "execution_count": 42,
   "metadata": {},
   "outputs": [],
   "source": [
    "config = {\n",
    "    'batch_size': 8, # this is for my laptop GPU, user 64 for training on rtx3090\n",
    "    'epochs': 500,\n",
    "    'lr': 2e-3,\n",
    "    'ctc_decoder_train': {\n",
    "        'num_processes': 4,\n",
    "        'beam_width': 8,\n",
    "    },\n",
    "    'ctc_decoder_test': {\n",
    "        'num_processes': 4,\n",
    "        'beam_width': 16,\n",
    "    },\n",
    "    'rlrop_params': {\n",
    "        'factor': 0.75,\n",
    "        'patience': 4,\n",
    "        'threshold': 0.001,\n",
    "        'threshold_mode': 'rel',\n",
    "        'cooldown': 2,\n",
    "    },\n",
    "    'CA_lr_params': {\n",
    "        'T_max': 8,\n",
    "        'eta_min': 1e-6,\n",
    "    },\n",
    "    'dropout_p': 0.25,\n",
    "    'adamw_weight_decay': 1e-2,\n",
    "    'time_mask_maxl': 100,\n",
    "    'time_mask_p': 0.9,\n",
    "    'freq_mask_maxl': 5,\n",
    "    'num_workers_train': 6,\n",
    "    'num_workers_val': 2,\n",
    "    'num_workers_test': 2,\n",
    "}"
   ]
  },
  {
   "cell_type": "markdown",
   "metadata": {
    "id": "2ORNHnSFroP0"
   },
   "source": [
    "# Dataset and Dataloader"
   ]
  },
  {
   "cell_type": "code",
   "execution_count": 4,
   "metadata": {
    "id": "k0v7wHRWrqH6"
   },
   "outputs": [],
   "source": [
    "# ARPABET PHONEME MAPPING\n",
    "# DO NOT CHANGE\n",
    "# This overwrites the phonetics.py file.\n",
    "\n",
    "CMUdict_ARPAbet = {\n",
    "    \"\": \" \",\n",
    "    \"[SIL]\": \"-\", \"NG\": \"G\", \"F\": \"f\", \"M\": \"m\", \"AE\": \"@\",\n",
    "    \"R\": \"r\", \"UW\": \"u\", \"N\": \"n\", \"IY\": \"i\", \"AW\": \"W\",\n",
    "    \"V\": \"v\", \"UH\": \"U\", \"OW\": \"o\", \"AA\": \"a\", \"ER\": \"R\",\n",
    "    \"HH\": \"h\", \"Z\": \"z\", \"K\": \"k\", \"CH\": \"C\", \"W\": \"w\",\n",
    "    \"EY\": \"e\", \"ZH\": \"Z\", \"T\": \"t\", \"EH\": \"E\", \"Y\": \"y\",\n",
    "    \"AH\": \"A\", \"B\": \"b\", \"P\": \"p\", \"TH\": \"T\", \"DH\": \"D\",\n",
    "    \"AO\": \"c\", \"G\": \"g\", \"L\": \"l\", \"JH\": \"j\", \"OY\": \"O\",\n",
    "    \"SH\": \"S\", \"D\": \"d\", \"AY\": \"Y\", \"S\": \"s\", \"IH\": \"I\",\n",
    "    \"[SOS]\": \"[SOS]\", \"[EOS]\": \"[EOS]\"\n",
    "}\n",
    "\n",
    "CMUdict = list(CMUdict_ARPAbet.keys())\n",
    "ARPAbet = list(CMUdict_ARPAbet.values())\n",
    "\n",
    "PHONEMES = CMUdict[:-2]\n",
    "LABELS = ARPAbet[:-2]"
   ]
  },
  {
   "cell_type": "markdown",
   "metadata": {
    "id": "agmNBKf4JrLV"
   },
   "source": [
    "### Train Data"
   ]
  },
  {
   "cell_type": "code",
   "execution_count": 5,
   "metadata": {},
   "outputs": [],
   "source": [
    "def cepstral_normalize(mfcc):\n",
    "    mean_mfcc = np.mean(mfcc, axis=0)\n",
    "    std_mfcc = np.std(mfcc, axis=0) + np.finfo('float').eps\n",
    "    normalized_mfcc = (mfcc - mean_mfcc) / std_mfcc\n",
    "    return normalized_mfcc"
   ]
  },
  {
   "cell_type": "code",
   "execution_count": 6,
   "metadata": {},
   "outputs": [],
   "source": [
    "# Utils for network\n",
    "torch.cuda.empty_cache()\n",
    "\n",
    "\n",
    "class PermuteBlock(torch.nn.Module):\n",
    "    def forward(self, x):\n",
    "        return x.transpose(1, 2)"
   ]
  },
  {
   "cell_type": "code",
   "execution_count": 7,
   "metadata": {},
   "outputs": [],
   "source": [
    "class AudioDataset(torch.utils.data.Dataset):\n",
    "\n",
    "    def __init__(self, root1='.', root2=None):\n",
    "        '''\n",
    "        Initializes the dataset.\n",
    "        '''\n",
    "\n",
    "        self.mfcc_paths, self.transcript_paths = [], []\n",
    "        self.PHONEMES = PHONEMES\n",
    "\n",
    "        self.augmentations = torch.nn.Sequential(\n",
    "            PermuteBlock(),\n",
    "            tat.TimeMasking(time_mask_param=config['time_mask_maxl'], p=config['time_mask_p']),\n",
    "            tat.FrequencyMasking(freq_mask_param=config['freq_mask_maxl']),\n",
    "            PermuteBlock(),\n",
    "        )\n",
    "\n",
    "        roots = [root1]\n",
    "        if root2 is not None:\n",
    "            roots.append(root2)\n",
    "\n",
    "        for root in roots:\n",
    "            print(\"=> Loading paths from: {}\".format(root))\n",
    "            mfcc_dir = os.path.join(root, 'mfcc')\n",
    "            transcript_dir = os.path.join(root, 'transcript')\n",
    "\n",
    "            mfcc_files = sorted(os.listdir(mfcc_dir))\n",
    "            transcript_files = sorted(os.listdir(transcript_dir))\n",
    "\n",
    "            root_file_length = len(mfcc_files)\n",
    "            for i in tqdm(range(root_file_length)):\n",
    "                self.mfcc_paths.append(os.path.join(root, 'mfcc', mfcc_files[i]))\n",
    "                self.transcript_paths.append(os.path.join(root, 'transcript', transcript_files[i]))\n",
    "        # Train Dataset only initializes with path to reduce CPU RAM usage (empirically found that fetching data during __getitem__ is not too costly!\n",
    "\n",
    "        assert len(self.mfcc_paths) == len(self.transcript_paths)\n",
    "        self.length = len(self.mfcc_paths)\n",
    "\n",
    "    def __len__(self):\n",
    "        return self.length\n",
    "\n",
    "    def __getitem__(self, ind):\n",
    "        '''\n",
    "        Return a tuple of features and labels.\n",
    "        '''\n",
    "        return self.mfcc_paths[ind], self.transcript_paths[ind]\n",
    "\n",
    "    def collate_fn(self, batch):\n",
    "        '''\n",
    "        1.  Extract the features and labels from 'batch'\n",
    "        2.  We will additionally need to pad both features and labels,\n",
    "            look at pytorch's docs for pad_sequence\n",
    "        3.  This is a good place to perform transforms, if you so wish.\n",
    "            Performing them on batches will speed the process up a bit.\n",
    "        4.  Return batch of features, labels, lenghts of features,\n",
    "            and lengths of labels.\n",
    "        '''\n",
    "\n",
    "        # batch of input mfcc coefficients\n",
    "        batch_mfcc_paths = [bitem[0] for bitem in batch]\n",
    "\n",
    "        # batch of output phonemes\n",
    "        batch_transcript_paths = [bitem[1] for bitem in batch]\n",
    "\n",
    "        batch_mfcc, batch_transcript = [], []\n",
    "        for mffc_ind in range(len(batch_mfcc_paths)):\n",
    "            mfcc = np.load(batch_mfcc_paths[mffc_ind])\n",
    "            mfcc = cepstral_normalize(mfcc)\n",
    "            mfcc = torch.FloatTensor(mfcc)\n",
    "            batch_mfcc.append(mfcc)\n",
    "\n",
    "            transcript = np.load(batch_transcript_paths[mffc_ind])[1:-1]\n",
    "            transcript_maps = [self.PHONEMES.index(j) for j in transcript]\n",
    "            transcript = torch.tensor(transcript_maps)\n",
    "            batch_transcript.append(transcript)\n",
    "\n",
    "        lengths_mfcc = [len(mfcc_i) for mfcc_i in batch_mfcc]\n",
    "\n",
    "        lengths_transcript = [len(transcript_i) for transcript_i in batch_transcript]\n",
    "\n",
    "        batch_mfcc_pad = pad_sequence(batch_mfcc, batch_first=True)\n",
    "        batch_transcript_pad = pad_sequence(batch_transcript, batch_first=True)\n",
    "\n",
    "        batch_mfcc_pad = self.augmentations(batch_mfcc_pad)\n",
    "\n",
    "        # Return the following values: padded features, padded labels, actual length of features, actual length of the labels\n",
    "        return batch_mfcc_pad, batch_transcript_pad, torch.tensor(lengths_mfcc), torch.tensor(lengths_transcript)\n"
   ]
  },
  {
   "cell_type": "markdown",
   "source": [
    "# Validation Data"
   ],
   "metadata": {
    "collapsed": false
   }
  },
  {
   "cell_type": "code",
   "execution_count": 8,
   "metadata": {},
   "outputs": [],
   "source": [
    "class AudioDatasetValidate(torch.utils.data.Dataset):\n",
    "\n",
    "    def __init__(self, root1='.', root2=None):\n",
    "        '''\n",
    "        Initializes the dataset.\n",
    "\n",
    "        '''\n",
    "\n",
    "        # Load the directory and all files in them\n",
    "\n",
    "        self.mfccs, self.transcripts = [], []\n",
    "        self.PHONEMES = PHONEMES\n",
    "\n",
    "        roots = [root1]\n",
    "        if root2 is not None:\n",
    "            roots.append(root2)\n",
    "\n",
    "        for root in roots:\n",
    "            print(\"=> Loading from: {}\".format(root))\n",
    "            mfcc_dir = os.path.join(root, 'mfcc')\n",
    "            transcript_dir = os.path.join(root, 'transcript')\n",
    "\n",
    "            mfcc_files = sorted(os.listdir(mfcc_dir))\n",
    "            transcript_files = sorted(os.listdir(transcript_dir))\n",
    "\n",
    "            root_file_length = len(mfcc_files)\n",
    "            for i in tqdm(range(root_file_length)):\n",
    "                mfcc = np.load(os.path.join(root, 'mfcc', mfcc_files[i]))\n",
    "                mfcc = cepstral_normalize(mfcc)\n",
    "                self.mfccs.append(mfcc)\n",
    "\n",
    "                transcript = np.load(os.path.join(root, 'transcript', transcript_files[i]))[1:-1]\n",
    "                transcript_maps = [self.PHONEMES.index(j) for j in transcript]\n",
    "                self.transcripts.append(transcript_maps)\n",
    "\n",
    "        assert len(self.mfccs) == len(self.transcripts)\n",
    "        self.length = len(self.mfccs)\n",
    "\n",
    "    def __len__(self):\n",
    "        return self.length\n",
    "\n",
    "    def __getitem__(self, ind):\n",
    "        '''\n",
    "        Return a tuple of features and labels.\n",
    "        '''\n",
    "        mfcc = torch.FloatTensor(self.mfccs[ind])\n",
    "        transcript = torch.tensor(self.transcripts[ind])\n",
    "        return mfcc, transcript\n",
    "\n",
    "    def collate_fn(self, batch):\n",
    "        '''\n",
    "        1.  Extract the features and labels from 'batch'\n",
    "        2.  We will additionally need to pad both features and labels,\n",
    "            look at pytorch's docs for pad_sequence\n",
    "        3.  This is a good place to perform transforms, if you so wish.\n",
    "            Performing them on batches will speed the process up a bit.\n",
    "        4.  Return batch of features, labels, lenghts of features,\n",
    "            and lengths of labels.\n",
    "        '''\n",
    "        # batch of input mfcc coefficients\n",
    "\n",
    "        batch_mfcc = [bitem[0] for bitem in batch]\n",
    "\n",
    "        # batch of output phonemes\n",
    "        batch_transcript = [bitem[1] for bitem in batch]\n",
    "\n",
    "        batch_mfcc_pad = pad_sequence(batch_mfcc, batch_first=True)\n",
    "        lengths_mfcc = [len(mfcc_i) for mfcc_i in batch_mfcc]\n",
    "\n",
    "        batch_transcript_pad = pad_sequence(batch_transcript, batch_first=True)\n",
    "        lengths_transcript = [len(transcript_i) for transcript_i in batch_transcript]\n",
    "\n",
    "        # Return the following values: padded features, padded labels, actual length of features, actual length of the labels\n",
    "        return batch_mfcc_pad, batch_transcript_pad, torch.tensor(lengths_mfcc), torch.tensor(lengths_transcript)\n"
   ]
  },
  {
   "cell_type": "markdown",
   "metadata": {},
   "source": [
    "### Test Data"
   ]
  },
  {
   "cell_type": "code",
   "execution_count": 9,
   "metadata": {},
   "outputs": [],
   "source": [
    "class AudioDatasetTest(torch.utils.data.Dataset):\n",
    "\n",
    "    def __init__(self, root='.'):\n",
    "        '''\n",
    "        Initializes the dataset.\n",
    "\n",
    "        INPUTS: What inputs do you need here?\n",
    "        '''\n",
    "\n",
    "        # Load the directory and all files in them\n",
    "\n",
    "        self.mfcc_dir = os.path.join(root, 'mfcc')\n",
    "\n",
    "        self.mfcc_files = sorted(os.listdir(self.mfcc_dir))\n",
    "\n",
    "        self.PHONEMES = PHONEMES\n",
    "\n",
    "        self.length = len(self.mfcc_files)\n",
    "\n",
    "        self.mfccs = []\n",
    "        for i in tqdm(range(self.length)):\n",
    "            mfcc = np.load(os.path.join(root, 'mfcc', self.mfcc_files[i]))\n",
    "            mfcc = cepstral_normalize(mfcc)\n",
    "            self.mfccs.append(mfcc)\n",
    "\n",
    "    def __len__(self):\n",
    "        return self.length\n",
    "\n",
    "    def __getitem__(self, ind):\n",
    "        '''\n",
    "        Return a tuple of features and labels.\n",
    "        '''\n",
    "\n",
    "        mfcc = torch.FloatTensor(self.mfccs[ind])\n",
    "        return mfcc\n",
    "\n",
    "    def collate_fn(self, batch):\n",
    "        '''\n",
    "        1.  Extract the features and labels from 'batch'\n",
    "        2.  We will additionally need to pad both features and labels,\n",
    "            look at pytorch's docs for pad_sequence\n",
    "        3.  This is a good place to perform transforms, if you so wish.\n",
    "            Performing them on batches will speed the process up a bit.\n",
    "        4.  Return batch of features, labels, lenghts of features,\n",
    "            and lengths of labels.\n",
    "        '''\n",
    "        # batch of input mfcc coefficients\n",
    "\n",
    "        batch_mfcc = batch\n",
    "\n",
    "        batch_mfcc_pad = pad_sequence(batch_mfcc, batch_first=True)\n",
    "        lengths_mfcc = [len(mfcc_i) for mfcc_i in batch_mfcc]\n",
    "\n",
    "        # Return the following values: padded features, actual length of features\n",
    "        return batch_mfcc_pad, torch.tensor(lengths_mfcc)"
   ]
  },
  {
   "cell_type": "markdown",
   "metadata": {},
   "source": [
    "### Data - Hyperparameters"
   ]
  },
  {
   "cell_type": "markdown",
   "metadata": {},
   "source": [
    "### Data loaders"
   ]
  },
  {
   "cell_type": "code",
   "execution_count": 10,
   "metadata": {},
   "outputs": [
    {
     "data": {
      "text/plain": "0"
     },
     "execution_count": 10,
     "metadata": {},
     "output_type": "execute_result"
    }
   ],
   "source": [
    "gc.collect()"
   ]
  },
  {
   "cell_type": "code",
   "execution_count": 11,
   "metadata": {},
   "outputs": [
    {
     "name": "stdout",
     "output_type": "stream",
     "text": [
      "Loading Train Dataset: \n",
      "=> Loading paths from: ./11-785-s23-hw3p2/train-clean-100\n"
     ]
    },
    {
     "name": "stderr",
     "output_type": "stream",
     "text": [
      "100%|██████████| 28539/28539 [00:00<00:00, 534042.00it/s]\n"
     ]
    },
    {
     "name": "stdout",
     "output_type": "stream",
     "text": [
      "Loading Val Dataset: \n",
      "=> Loading from: ./11-785-s23-hw3p2/dev-clean\n"
     ]
    },
    {
     "name": "stderr",
     "output_type": "stream",
     "text": [
      "100%|██████████| 2703/2703 [00:02<00:00, 1266.52it/s]\n"
     ]
    },
    {
     "name": "stdout",
     "output_type": "stream",
     "text": [
      "Loading Test Dataset: \n"
     ]
    },
    {
     "name": "stderr",
     "output_type": "stream",
     "text": [
      "100%|██████████| 2620/2620 [00:01<00:00, 1828.65it/s]"
     ]
    },
    {
     "name": "stdout",
     "output_type": "stream",
     "text": [
      "\n",
      "Batch size:  32\n",
      "Train dataset samples = 28539, batches = 892\n",
      "Val dataset samples = 2703, batches = 85\n",
      "Test dataset samples = 2620, batches = 82\n"
     ]
    },
    {
     "name": "stderr",
     "output_type": "stream",
     "text": [
      "\n"
     ]
    }
   ],
   "source": [
    "# Create objects for the dataset class\n",
    "print(\"Loading Train Dataset: \")\n",
    "train_data = AudioDataset(root1='./11-785-s23-hw3p2/train-clean-100')\n",
    "\n",
    "print(\"Loading Val Dataset: \")\n",
    "val_data = AudioDatasetValidate(root1='./11-785-s23-hw3p2/dev-clean')\n",
    "\n",
    "print(\"Loading Test Dataset: \")\n",
    "test_data = AudioDatasetTest(root='./11-785-s23-hw3p2/test-clean')\n",
    "\n",
    "# Do NOT forget to pass in the collate function as parameter while creating the dataloader\n",
    "train_loader = torch.utils.data.DataLoader(\n",
    "    dataset=train_data,\n",
    "    collate_fn=train_data.collate_fn,\n",
    "    num_workers=config['num_workers_train'],\n",
    "    batch_size=config['batch_size'],\n",
    "    pin_memory=True,\n",
    "    shuffle=True\n",
    ")\n",
    "\n",
    "val_loader = torch.utils.data.DataLoader(\n",
    "    dataset=val_data,\n",
    "    collate_fn=val_data.collate_fn,\n",
    "    num_workers=config['num_workers_val'],\n",
    "    batch_size=config['batch_size'],\n",
    "    pin_memory=True,\n",
    "    shuffle=False\n",
    ")\n",
    "\n",
    "test_loader = torch.utils.data.DataLoader(\n",
    "    dataset=test_data,\n",
    "    collate_fn=test_data.collate_fn,\n",
    "    num_workers=config['num_workers_test'],\n",
    "    batch_size=config['batch_size'],\n",
    "    pin_memory=True,\n",
    "    shuffle=False\n",
    ")\n",
    "\n",
    "print(\"\\nBatch size: \", config['batch_size'])\n",
    "print(\"Train dataset samples = {}, batches = {}\".format(train_data.__len__(), len(train_loader)))\n",
    "print(\"Val dataset samples = {}, batches = {}\".format(val_data.__len__(), len(val_loader)))\n",
    "print(\"Test dataset samples = {}, batches = {}\".format(test_data.__len__(), len(test_loader)))"
   ]
  },
  {
   "cell_type": "code",
   "execution_count": 12,
   "metadata": {},
   "outputs": [],
   "source": [
    "# del train_loader, val_loader, test_loader\n",
    "gc.collect()\n",
    "torch.cuda.empty_cache()"
   ]
  },
  {
   "cell_type": "code",
   "execution_count": 13,
   "metadata": {},
   "outputs": [
    {
     "name": "stdout",
     "output_type": "stream",
     "text": [
      "torch.Size([32, 1654, 27]) torch.Size([32, 202]) torch.Size([32]) torch.Size([32])\n"
     ]
    },
    {
     "data": {
      "text/plain": "<Figure size 640x480 with 1 Axes>",
      "image/png": "[encoded data removed]"
     },
     "metadata": {},
     "output_type": "display_data"
    }
   ],
   "source": [
    "import matplotlib.pyplot as plt\n",
    "\n",
    "for data in train_loader:\n",
    "    x, y, lx, ly = data\n",
    "    print(x.shape, y.shape, lx.shape, ly.shape)\n",
    "    # Plots train data with its augmentations\n",
    "    plt.imshow(x[0].T, interpolation='nearest', aspect='auto', cmap='viridis')\n",
    "    plt.show()\n",
    "    break"
   ]
  },
  {
   "cell_type": "markdown",
   "metadata": {},
   "source": [
    "# NETWORK: Pyramid Bi-LSTM (pBLSTM)"
   ]
  },
  {
   "cell_type": "markdown",
   "metadata": {},
   "source": [
    "# Encoder"
   ]
  },
  {
   "cell_type": "code",
   "execution_count": 14,
   "metadata": {
    "id": "TsQRmZXq3Yao"
   },
   "outputs": [],
   "source": [
    "class Resnet34ResidualBlock1d(nn.Module):\n",
    "    def __init__(self, in_channels, out_channels, stride=1, kernel_size=3, padding=1):\n",
    "        super(Resnet34ResidualBlock1d, self).__init__()\n",
    "        self.cnn1 = nn.Sequential(\n",
    "            nn.Conv1d(in_channels, out_channels, kernel_size, stride, padding, bias=False),\n",
    "            nn.BatchNorm1d(out_channels),\n",
    "            nn.ReLU(True)\n",
    "        )\n",
    "        self.cnn2 = nn.Sequential(\n",
    "            nn.Conv1d(out_channels, out_channels, kernel_size, 1, padding, bias=False),\n",
    "            nn.BatchNorm1d(out_channels)\n",
    "        )\n",
    "        if stride != 1 or in_channels != out_channels:\n",
    "            self.shortcut = nn.Sequential(\n",
    "                nn.Conv1d(in_channels, out_channels, kernel_size=1, stride=stride, bias=False),\n",
    "                nn.BatchNorm1d(out_channels)\n",
    "            )\n",
    "        else:\n",
    "            self.shortcut = nn.Sequential()\n",
    "\n",
    "    def forward(self, x):\n",
    "        residual = x\n",
    "        x = self.cnn1(x)\n",
    "        x = self.cnn2(x)\n",
    "        x += self.shortcut(residual)\n",
    "        x = nn.ReLU(True)(x)\n",
    "        return x"
   ]
  },
  {
   "cell_type": "code",
   "execution_count": 15,
   "metadata": {
    "id": "3xkc_Mfz3Yap"
   },
   "outputs": [],
   "source": [
    "class pBLSTM(torch.nn.Module):\n",
    "    '''\n",
    "    Pyramidal BiLSTM\n",
    "    Read the writeup/paper and understand the concepts and then write your implementation here.\n",
    "\n",
    "    At each step,\n",
    "    1. Pad your input if it is packed (Unpack it)\n",
    "    2. Reduce the input length dimension by concatenating feature dimension\n",
    "        (Tip: Write down the shapes and understand)\n",
    "        (i) How should  you deal with odd/even length input?\n",
    "        (ii) How should you deal with input length array (x_lens) after truncating the input?\n",
    "    3. Pack your input\n",
    "    4. Pass it into LSTM layer\n",
    "\n",
    "    To make our implementation modular, we pass 1 layer at a time.\n",
    "    '''\n",
    "\n",
    "    def __init__(self, input_size, hidden_size, n_lstm=1):\n",
    "        super(pBLSTM, self).__init__()\n",
    "\n",
    "        self.ld = torchnlp.nn.LockedDropout(p=config['dropout_p'])\n",
    "\n",
    "        self.ln = nn.LayerNorm(input_size * 2, eps=1e-06)\n",
    "\n",
    "        self.blstm = nn.LSTM(input_size=input_size * 2, hidden_size=hidden_size, num_layers=n_lstm, bidirectional=True,\n",
    "                             batch_first=True)\n",
    "\n",
    "    def forward(self, x_packed):  # x_packed is a PackedSequence\n",
    "\n",
    "        # Pad Packed Sequence\n",
    "        x, x_lens = pad_packed_sequence(x_packed, batch_first=True, padding_value=0.0)\n",
    "\n",
    "        x, x_lens = self.trunc_reshape(x, x_lens)\n",
    "\n",
    "        x = torch.permute(x, (1, 0, 2))\n",
    "        x = self.ld(x)\n",
    "        x = self.ln(x)\n",
    "        x = torch.permute(x, (1, 0, 2))\n",
    "\n",
    "        # Pack Padded Sequence.\n",
    "        x = pack_padded_sequence(x, lengths=x_lens, batch_first=True, enforce_sorted=False)\n",
    "\n",
    "        # Pass the sequence through bLSTM\n",
    "        x, _ = self.blstm(x)\n",
    "\n",
    "        return x\n",
    "\n",
    "    def trunc_reshape(self, x, x_lens):\n",
    "        if x.size(dim=1) % 2 == 1:\n",
    "            x = x[:, :-1, :]\n",
    "        x = x.reshape(x.shape[0], x.shape[1] // 2, x.shape[2] * 2)\n",
    "        x_lens //= 2\n",
    "        return x, x_lens"
   ]
  },
  {
   "cell_type": "code",
   "execution_count": 16,
   "metadata": {
    "id": "R3jWDGGs3Yap"
   },
   "outputs": [],
   "source": [
    "class Encoder(torch.nn.Module):\n",
    "    '''\n",
    "    The Encoder takes utterances as inputs and returns latent feature representations\n",
    "    '''\n",
    "\n",
    "    def __init__(self, input_size=27, encoder_hidden_size=256):\n",
    "        super(Encoder, self).__init__()\n",
    "\n",
    "        self.embedding_stride = 1\n",
    "        self.embedding_kernel_size = 3\n",
    "        self.embedding_padding = 1\n",
    "\n",
    "        self.embedding = nn.Sequential(\n",
    "            PermuteBlock(),\n",
    "            Resnet34ResidualBlock1d(in_channels=input_size, out_channels=1024, stride=self.embedding_stride,\n",
    "                                    kernel_size=self.embedding_kernel_size, padding=self.embedding_padding),\n",
    "            PermuteBlock(),\n",
    "        )\n",
    "\n",
    "        self.pBLSTMs = nn.Sequential(\n",
    "            pBLSTM(input_size=1024, hidden_size=encoder_hidden_size, n_lstm=2),\n",
    "            pBLSTM(input_size=encoder_hidden_size * 2, hidden_size=encoder_hidden_size, n_lstm=2),\n",
    "        )\n",
    "\n",
    "    def forward(self, x, x_lens):\n",
    "        # Call the embedding layer\n",
    "        x = self.embedding(x)\n",
    "        x_lens = (x_lens - self.embedding_kernel_size + 2 * self.embedding_padding) // self.embedding_stride\n",
    "\n",
    "        # Pack Padded Sequence\n",
    "        x = pack_padded_sequence(x, lengths=x_lens, batch_first=True, enforce_sorted=False)\n",
    "\n",
    "        # Pass Sequence through the pyramidal Bi-LSTM layer\n",
    "        x = self.pBLSTMs(x)\n",
    "\n",
    "        # Pad Packed Sequence\n",
    "        encoder_outputs, encoder_lens = pad_packed_sequence(x, batch_first=True, padding_value=0.0)\n",
    "\n",
    "        return encoder_outputs, encoder_lens"
   ]
  },
  {
   "cell_type": "markdown",
   "metadata": {
    "id": "kg82HXa3MUz1"
   },
   "source": [
    "# Decoder"
   ]
  },
  {
   "cell_type": "code",
   "execution_count": 17,
   "metadata": {
    "id": "fxPzpxJh3Yap"
   },
   "outputs": [],
   "source": [
    "class DecoderLinear(torch.nn.Module):\n",
    "\n",
    "    def __init__(self, input_size, output_size, last_layer=False):\n",
    "        super(DecoderLinear, self).__init__()\n",
    "\n",
    "        if last_layer:\n",
    "            self.model = torch.nn.Sequential(\n",
    "                PermuteBlock(),\n",
    "                nn.BatchNorm1d(input_size),\n",
    "                PermuteBlock(),\n",
    "                nn.Linear(input_size, output_size),\n",
    "            )\n",
    "        else:\n",
    "            self.model = torch.nn.Sequential(\n",
    "                PermuteBlock(),\n",
    "                nn.BatchNorm1d(input_size),\n",
    "                PermuteBlock(),\n",
    "                nn.Linear(input_size, output_size),\n",
    "                nn.GELU(),\n",
    "                nn.Dropout(p=config['dropout_p']),\n",
    "            )\n",
    "\n",
    "    def forward(self, x):\n",
    "        out = self.model(x)\n",
    "        return out"
   ]
  },
  {
   "cell_type": "code",
   "execution_count": 18,
   "metadata": {
    "id": "4u3hOOD53Yap"
   },
   "outputs": [],
   "source": [
    "class Decoder(torch.nn.Module):\n",
    "\n",
    "    def __init__(self, embed_size=256 * 2, output_size=len(LABELS)):\n",
    "        super().__init__()\n",
    "\n",
    "        self.mlp = torch.nn.Sequential(\n",
    "            DecoderLinear(input_size=embed_size, output_size=embed_size // 2),\n",
    "            DecoderLinear(input_size=embed_size // 2, output_size=embed_size // 4),\n",
    "            DecoderLinear(input_size=embed_size // 4, output_size=output_size, last_layer=True),\n",
    "        )\n",
    "\n",
    "        self.softmax = nn.LogSoftmax(dim=2)\n",
    "\n",
    "    def forward(self, encoder_out):\n",
    "        out = self.mlp(encoder_out)\n",
    "        out = self.softmax(out)\n",
    "        return out"
   ]
  },
  {
   "cell_type": "code",
   "execution_count": 19,
   "metadata": {
    "id": "qmHf6pFiMUz1"
   },
   "outputs": [],
   "source": [
    "class ASRModel(torch.nn.Module):\n",
    "\n",
    "    def __init__(self, input_size, embed_size=256, output_size=len(LABELS)):\n",
    "        super().__init__()\n",
    "        self.encoder = Encoder(input_size=input_size, encoder_hidden_size=embed_size)\n",
    "        self.decoder = Decoder(embed_size=embed_size * 2, output_size=output_size)\n",
    "\n",
    "    def forward(self, x, lengths_x):\n",
    "        encoder_out, encoder_lens = self.encoder(x, lengths_x)\n",
    "        decoder_out = self.decoder(encoder_out)\n",
    "\n",
    "        return decoder_out, encoder_lens"
   ]
  },
  {
   "cell_type": "markdown",
   "metadata": {
    "id": "EV7DMPDoMUz2"
   },
   "source": [
    "## INIT ASR"
   ]
  },
  {
   "cell_type": "code",
   "execution_count": 20,
   "metadata": {
    "colab": {
     "base_uri": "https://localhost:8080/",
     "height": 1000
    },
    "id": "oaaDsnnLMUz2",
    "outputId": "66316fb2-3d1d-4f9f-d38a-d88f01c51e05"
   },
   "outputs": [
    {
     "name": "stdout",
     "output_type": "stream",
     "text": [
      "ASRModel(\n",
      "  (encoder): Encoder(\n",
      "    (embedding): Sequential(\n",
      "      (0): PermuteBlock()\n",
      "      (1): Resnet34ResidualBlock1d(\n",
      "        (cnn1): Sequential(\n",
      "          (0): Conv1d(27, 1024, kernel_size=(3,), stride=(1,), padding=(1,), bias=False)\n",
      "          (1): BatchNorm1d(1024, eps=1e-05, momentum=0.1, affine=True, track_running_stats=True)\n",
      "          (2): ReLU(inplace=True)\n",
      "        )\n",
      "        (cnn2): Sequential(\n",
      "          (0): Conv1d(1024, 1024, kernel_size=(3,), stride=(1,), padding=(1,), bias=False)\n",
      "          (1): BatchNorm1d(1024, eps=1e-05, momentum=0.1, affine=True, track_running_stats=True)\n",
      "        )\n",
      "        (shortcut): Sequential(\n",
      "          (0): Conv1d(27, 1024, kernel_size=(1,), stride=(1,), bias=False)\n",
      "          (1): BatchNorm1d(1024, eps=1e-05, momentum=0.1, affine=True, track_running_stats=True)\n",
      "        )\n",
      "      )\n",
      "      (2): PermuteBlock()\n",
      "    )\n",
      "    (pBLSTMs): Sequential(\n",
      "      (0): pBLSTM(\n",
      "        (ld): LockedDropout(p=0.25)\n",
      "        (ln): LayerNorm((2048,), eps=1e-06, elementwise_affine=True)\n",
      "        (blstm): LSTM(2048, 656, num_layers=2, batch_first=True, bidirectional=True)\n",
      "      )\n",
      "      (1): pBLSTM(\n",
      "        (ld): LockedDropout(p=0.25)\n",
      "        (ln): LayerNorm((2624,), eps=1e-06, elementwise_affine=True)\n",
      "        (blstm): LSTM(2624, 656, num_layers=2, batch_first=True, bidirectional=True)\n",
      "      )\n",
      "    )\n",
      "  )\n",
      "  (decoder): Decoder(\n",
      "    (mlp): Sequential(\n",
      "      (0): DecoderLinear(\n",
      "        (model): Sequential(\n",
      "          (0): PermuteBlock()\n",
      "          (1): BatchNorm1d(1312, eps=1e-05, momentum=0.1, affine=True, track_running_stats=True)\n",
      "          (2): PermuteBlock()\n",
      "          (3): Linear(in_features=1312, out_features=656, bias=True)\n",
      "          (4): GELU(approximate='none')\n",
      "          (5): Dropout(p=0.25, inplace=False)\n",
      "        )\n",
      "      )\n",
      "      (1): DecoderLinear(\n",
      "        (model): Sequential(\n",
      "          (0): PermuteBlock()\n",
      "          (1): BatchNorm1d(656, eps=1e-05, momentum=0.1, affine=True, track_running_stats=True)\n",
      "          (2): PermuteBlock()\n",
      "          (3): Linear(in_features=656, out_features=328, bias=True)\n",
      "          (4): GELU(approximate='none')\n",
      "          (5): Dropout(p=0.25, inplace=False)\n",
      "        )\n",
      "      )\n",
      "      (2): DecoderLinear(\n",
      "        (model): Sequential(\n",
      "          (0): PermuteBlock()\n",
      "          (1): BatchNorm1d(328, eps=1e-05, momentum=0.1, affine=True, track_running_stats=True)\n",
      "          (2): PermuteBlock()\n",
      "          (3): Linear(in_features=328, out_features=41, bias=True)\n",
      "        )\n",
      "      )\n",
      "    )\n",
      "    (softmax): LogSoftmax(dim=2)\n",
      "  )\n",
      ")\n"
     ]
    },
    {
     "data": {
      "text/plain": "======================================================================\nLayer (type:depth-idx)                        Param #\n======================================================================\nASRModel                                      --\n├─Encoder: 1-1                                --\n│    └─Sequential: 2-1                        --\n│    │    └─PermuteBlock: 3-1                 --\n│    │    └─Resnet34ResidualBlock1d: 3-2      3,262,464\n│    │    └─PermuteBlock: 3-3                 --\n│    └─Sequential: 2-2                        --\n│    │    └─pBLSTM: 3-4                       24,543,744\n│    │    └─pBLSTM: 3-5                       27,567,744\n├─Decoder: 1-2                                --\n│    └─Sequential: 2-3                        --\n│    │    └─DecoderLinear: 3-6                863,952\n│    │    └─DecoderLinear: 3-7                216,808\n│    │    └─DecoderLinear: 3-8                14,145\n│    └─LogSoftmax: 2-4                        --\n======================================================================\nTotal params: 56,468,857\nTrainable params: 56,468,857\nNon-trainable params: 0\n======================================================================"
     },
     "execution_count": 20,
     "metadata": {},
     "output_type": "execute_result"
    }
   ],
   "source": [
    "gc.collect()\n",
    "torch.cuda.empty_cache()\n",
    "model = ASRModel(\n",
    "    input_size=27,\n",
    "    embed_size=656,\n",
    "    output_size=len(LABELS)\n",
    ").to(device)\n",
    "print(model)\n",
    "summary(model)"
   ]
  },
  {
   "cell_type": "code",
   "execution_count": 21,
   "metadata": {
    "id": "3A3sTSGMgzit"
   },
   "outputs": [],
   "source": [
    "# del model\n",
    "gc.collect()\n",
    "torch.cuda.empty_cache()"
   ]
  },
  {
   "cell_type": "markdown",
   "metadata": {
    "id": "IBwunYpyugFg"
   },
   "source": [
    "# Training Config"
   ]
  },
  {
   "cell_type": "code",
   "execution_count": 22,
   "metadata": {
    "id": "iGoozH2nd6KB"
   },
   "outputs": [],
   "source": [
    "criterion = nn.CTCLoss(blank=0, zero_infinity=False)\n",
    "# CTC Loss: https://pytorch.org/docs/stable/generated/torch.nn.CTCLoss.html\n",
    "# Refer to the handout for hints\n",
    "\n",
    "optimizer = torch.optim.AdamW(model.parameters(), lr=config['lr'], weight_decay=config['adamw_weight_decay'])\n",
    "\n",
    "# Declare the decoder. Use the CTC Beam Decoder to decode phonemes\n",
    "decoder = CTCBeamDecoder(LABELS, log_probs_input=True, **config['ctc_decoder_train'])\n",
    "\n",
    "# scheduler = torch.optim.lr_scheduler.CosineAnnealingLR(optimizer, **config['CA_lr_params'])\n",
    "scheduler = torch.optim.lr_scheduler.ReduceLROnPlateau(optimizer, **config['rlrop_params'])\n",
    "\n",
    "# Mixed Precision, if you need it\n",
    "scaler = torch.cuda.amp.GradScaler()"
   ]
  },
  {
   "cell_type": "code",
   "execution_count": null,
   "metadata": {
    "id": "F3mdQlSUiMi9"
   },
   "outputs": [],
   "source": [
    "# del criterion, optimizer, decoder, scheduler"
   ]
  },
  {
   "cell_type": "markdown",
   "metadata": {
    "id": "Jmc6_4eWL2Xp"
   },
   "source": [
    "## Decode Prediction"
   ]
  },
  {
   "cell_type": "code",
   "execution_count": 23,
   "metadata": {
    "id": "KHjnCDddL36E"
   },
   "outputs": [],
   "source": [
    "npLABELS = np.asarray(LABELS)\n",
    "\n",
    "\n",
    "def decode_prediction(output, output_lens, decoder, PHONEME_MAP=npLABELS):\n",
    "    beam_results, beam_scores, timesteps, output_lens = decoder.decode(output,\n",
    "                                                                       seq_lens=output_lens)  #lengths - list of lengths\n",
    "\n",
    "    pred_strings = []\n",
    "\n",
    "    for i in range(output_lens.shape[0]):\n",
    "        top_beam = beam_results[i][0][:output_lens[i][0]].numpy()\n",
    "        pred_strings.append(''.join(PHONEME_MAP[top_beam]))\n",
    "\n",
    "    return pred_strings\n",
    "\n",
    "\n",
    "def calculate_levenshtein(output, label, output_lens, label_lens, decoder,\n",
    "                          PHONEME_MAP=npLABELS):  # y - sequence of integers\n",
    "\n",
    "    dist = 0\n",
    "    batch_size = label.shape[0]\n",
    "\n",
    "    pred_strings = decode_prediction(output, output_lens, decoder, PHONEME_MAP)\n",
    "\n",
    "    for i in range(batch_size):\n",
    "        pred_string = pred_strings[i]\n",
    "        label_string = ''.join(PHONEME_MAP[label.cpu()[i, :label_lens[i]].numpy()])\n",
    "        # print(\"P = {}; L = {}\".format(pred_string, label_string))\n",
    "        dist += Levenshtein.distance(pred_string, label_string)\n",
    "\n",
    "    dist /= batch_size\n",
    "    return dist"
   ]
  },
  {
   "cell_type": "code",
   "execution_count": 24,
   "metadata": {
    "colab": {
     "base_uri": "https://localhost:8080/"
    },
    "id": "GnTLL-5gMBrY",
    "outputId": "0b9cdfa9-ece7-4225-8731-eb98c4454f9e"
   },
   "outputs": [
    {
     "name": "stdout",
     "output_type": "stream",
     "text": [
      "torch.Size([32, 2936, 27])\n",
      "torch.Size([32])\n",
      "torch.Size([32, 733, 41])\n",
      "torch.Size([733, 32, 41]) torch.Size([32, 265])\n",
      "tensor(7.6047, device='cuda:0', grad_fn=<MeanBackward0>)\n",
      "65.4375\n"
     ]
    }
   ],
   "source": [
    "# test code to check shapes\n",
    "\n",
    "model.eval()\n",
    "for i, data in enumerate(val_loader, 0):\n",
    "    x, y, lx, ly = data\n",
    "    print(x.shape)\n",
    "    print(lx.shape)\n",
    "    x, y = x.to(device), y.to(device)\n",
    "    h, lh = model(x, lx)\n",
    "    print(h.shape)\n",
    "    h = torch.permute(h, (1, 0, 2))\n",
    "    print(h.shape, y.shape)\n",
    "    loss = criterion(h, y, lh, ly)\n",
    "    print(loss)\n",
    "\n",
    "    h = torch.permute(h, (1, 0, 2))\n",
    "    print(calculate_levenshtein(h, y, lh, ly, decoder, npLABELS))\n",
    "\n",
    "    break"
   ]
  },
  {
   "cell_type": "markdown",
   "metadata": {
    "id": "rd5aNaLVoR_g"
   },
   "source": [
    "## wandb\n",
    "\n",
    "You will need to fetch your api key from wandb.ai"
   ]
  },
  {
   "cell_type": "code",
   "execution_count": null,
   "metadata": {
    "colab": {
     "base_uri": "https://localhost:8080/"
    },
    "id": "PiDduMaDIARE",
    "outputId": "bdf2b4d0-4ef4-4767-ab6d-bfdb23c090d4"
   },
   "outputs": [],
   "source": [
    "import wandb\n",
    "\n",
    "wandb.login(key=\"<api>\")"
   ]
  },
  {
   "cell_type": "code",
   "execution_count": null,
   "metadata": {
    "colab": {
     "base_uri": "https://localhost:8080/",
     "height": 105
    },
    "id": "4s52yBOvICPZ",
    "outputId": "f9ea81d6-8288-4cd8-9a95-15a29195d5b2"
   },
   "outputs": [],
   "source": [
    "run = wandb.init(\n",
    "    name=\"v3090-tc460-pb2.2_resume+config_change+augment\",  ## Wandb creates random run names if you skip this field\n",
    "    reinit=True,  ### Allows reinitalizing runs when you re-run this cell\n",
    "    # run_id = ### Insert specific run id here if you want to resume a previous run\n",
    "    # resume = \"must\" ### You need this to resume previous runs, but comment out reinit = True when using this\n",
    "    project=\"hw3p2-ablations\",  ### Project should be created in your wandb account\n",
    "    config=config  ### Wandb Config for your run\n",
    ")"
   ]
  },
  {
   "cell_type": "markdown",
   "metadata": {
    "id": "6fLLj5KIMMOe"
   },
   "source": [
    "# Train Functions"
   ]
  },
  {
   "cell_type": "code",
   "execution_count": null,
   "metadata": {
    "id": "ri87MAdhMUz5"
   },
   "outputs": [],
   "source": [
    "def train_model(model, train_loader, criterion, optimizer):\n",
    "    model.train()\n",
    "    batch_bar = tqdm(total=len(train_loader), dynamic_ncols=True, leave=False, position=0, desc='Train')\n",
    "\n",
    "    total_loss = 0\n",
    "\n",
    "    for i, data in enumerate(train_loader):\n",
    "        optimizer.zero_grad()\n",
    "\n",
    "        x, y, lx, ly = data\n",
    "        x, y = x.to(device), y.to(device)\n",
    "\n",
    "        with torch.cuda.amp.autocast():\n",
    "            h, lh = model(x, lx)\n",
    "            h = torch.permute(h, (1, 0, 2))\n",
    "            loss = criterion(h.to(torch.float64), y, lh, ly)\n",
    "\n",
    "        total_loss += loss.item()\n",
    "\n",
    "        batch_bar.set_postfix(\n",
    "            loss=\"{:.04f}\".format(float(total_loss / (i + 1))),\n",
    "            lr=\"{:.06f}\".format(float(optimizer.param_groups[0]['lr'])))\n",
    "\n",
    "        batch_bar.update()  # Update tqdm bar\n",
    "\n",
    "        # Another couple things you need for FP16. \n",
    "        scaler.scale(loss).backward()  # This is a replacement for loss.backward()\n",
    "        scaler.step(optimizer)  # This is a replacement for optimizer.step()\n",
    "        scaler.update()  # This is something added just for FP16\n",
    "\n",
    "        del x, y, lx, ly, h, lh, loss\n",
    "        torch.cuda.empty_cache()\n",
    "\n",
    "    batch_bar.close()  # You need this to close the tqdm bar\n",
    "\n",
    "    return total_loss / len(train_loader)\n",
    "\n",
    "\n",
    "def validate_model(model, val_loader, decoder, phoneme_map=LABELS):\n",
    "    model.eval()\n",
    "    batch_bar = tqdm(total=len(val_loader), dynamic_ncols=True, position=0, leave=False, desc='Val')\n",
    "\n",
    "    total_loss = 0\n",
    "    vdist = 0\n",
    "\n",
    "    for i, data in enumerate(val_loader):\n",
    "        x, y, lx, ly = data\n",
    "        x, y = x.to(device), y.to(device)\n",
    "\n",
    "        with torch.inference_mode():\n",
    "            h, lh = model(x, lx)\n",
    "            h = torch.permute(h, (1, 0, 2))\n",
    "            loss = criterion(h, y, lh, ly)\n",
    "\n",
    "        total_loss += float(loss)\n",
    "        vdist += calculate_levenshtein(torch.permute(h, (1, 0, 2)), y, lh, ly, decoder, phoneme_map)\n",
    "\n",
    "        batch_bar.set_postfix(loss=\"{:.04f}\".format(float(total_loss / (i + 1))),\n",
    "                              dist=\"{:.04f}\".format(float(vdist / (i + 1))))\n",
    "\n",
    "        batch_bar.update()\n",
    "\n",
    "        del x, y, lx, ly, h, lh, loss\n",
    "        torch.cuda.empty_cache()\n",
    "\n",
    "    batch_bar.close()\n",
    "    total_loss = total_loss / len(val_loader)\n",
    "    val_dist = vdist / len(val_loader)\n",
    "    return total_loss, val_dist"
   ]
  },
  {
   "cell_type": "markdown",
   "metadata": {
    "id": "qpYExu4vT4_g"
   },
   "source": [
    "### Training Setup"
   ]
  },
  {
   "cell_type": "code",
   "execution_count": 25,
   "metadata": {
    "id": "husa5_EYMUz6"
   },
   "outputs": [],
   "source": [
    "def save_model(model, optimizer, scheduler, metric, epoch, path):\n",
    "    torch.save(\n",
    "        {'model_state_dict': model.state_dict(),\n",
    "         'optimizer_state_dict': optimizer.state_dict(),\n",
    "         'scheduler_state_dict': scheduler.state_dict(),\n",
    "         metric[0]: metric[1],\n",
    "         'epoch': epoch},\n",
    "        path\n",
    "    )\n",
    "\n",
    "\n",
    "def load_model(path, model, metric='valid_dist', optimizer=None, scheduler=None):\n",
    "    checkpoint = torch.load(path)\n",
    "    model.load_state_dict(checkpoint['model_state_dict'])\n",
    "\n",
    "    if optimizer != None:\n",
    "        optimizer.load_state_dict(checkpoint['optimizer_state_dict'])\n",
    "    if scheduler != None:\n",
    "        scheduler.load_state_dict(checkpoint['scheduler_state_dict'])\n",
    "\n",
    "    epoch = checkpoint['epoch']\n",
    "    metric = checkpoint[metric]\n",
    "\n",
    "    return [model, optimizer, scheduler, epoch, metric]"
   ]
  },
  {
   "cell_type": "code",
   "execution_count": 26,
   "metadata": {
    "id": "tExvyl1BIdMC"
   },
   "outputs": [],
   "source": [
    "# This is for checkpointing, if you're doing it over multiple sessions\n",
    "\n",
    "last_epoch_completed = 0\n",
    "start = last_epoch_completed\n",
    "end = config[\"epochs\"]\n",
    "best_lev_dist = float(\"inf\")  # if you're restarting from some checkpoint, use what you saw there.\n",
    "epoch_model_path = './checkpoint_epoch.pth'\n",
    "best_model_path = './checkpoint_best.pth'"
   ]
  },
  {
   "cell_type": "code",
   "execution_count": 39,
   "metadata": {},
   "outputs": [
    {
     "data": {
      "text/plain": "======================================================================\nLayer (type:depth-idx)                        Param #\n======================================================================\nASRModel                                      --\n├─Encoder: 1-1                                --\n│    └─Sequential: 2-1                        --\n│    │    └─PermuteBlock: 3-1                 --\n│    │    └─Resnet34ResidualBlock1d: 3-2      3,262,464\n│    │    └─PermuteBlock: 3-3                 --\n│    └─Sequential: 2-2                        --\n│    │    └─pBLSTM: 3-4                       24,543,744\n│    │    └─pBLSTM: 3-5                       27,567,744\n├─Decoder: 1-2                                --\n│    └─Sequential: 2-3                        --\n│    │    └─DecoderLinear: 3-6                863,952\n│    │    └─DecoderLinear: 3-7                216,808\n│    │    └─DecoderLinear: 3-8                14,145\n│    └─LogSoftmax: 2-4                        --\n======================================================================\nTotal params: 56,468,857\nTrainable params: 56,468,857\nNon-trainable params: 0\n======================================================================"
     },
     "execution_count": 39,
     "metadata": {},
     "output_type": "execute_result"
    }
   ],
   "source": [
    "model, _, _, _, best_lev_dist = load_model('./checkpoint_epoch_fin.pth', model, 'valid_dist')\n",
    "summary(model)"
   ]
  },
  {
   "cell_type": "code",
   "execution_count": 38,
   "metadata": {
    "colab": {
     "base_uri": "https://localhost:8080/"
    },
    "id": "PVB3yK4R3Yas",
    "outputId": "c45ba2c8-5808-4423-a39f-bb86fcdd7a4b"
   },
   "outputs": [
    {
     "name": "stdout",
     "output_type": "stream",
     "text": [
      "{'batch_size': 32, 'epochs': 500, 'lr': 0.002, 'ctc_decoder_train': {'num_processes': 4, 'beam_width': 8}, 'ctc_decoder_test': {'num_processes': 4, 'beam_width': 50}, 'rlrop_params': {'factor': 0.75, 'patience': 4, 'threshold': 0.001, 'threshold_mode': 'rel', 'cooldown': 2}, 'CA_lr_params': {'T_max': 8, 'eta_min': 1e-06}, 'dropout_p': 0.25, 'adamw_weight_decay': 0.01, 'time_mask_maxl': 100, 'time_mask_p': 0.9, 'freq_mask_maxl': 5, 'num_workers_train': 6, 'num_workers_val': 2, 'num_workers_test': 2}\n"
     ]
    },
    {
     "data": {
      "text/plain": "9"
     },
     "execution_count": 38,
     "metadata": {},
     "output_type": "execute_result"
    }
   ],
   "source": [
    "print(config)\n",
    "torch.cuda.empty_cache()\n",
    "gc.collect()"
   ]
  },
  {
   "cell_type": "code",
   "execution_count": null,
   "metadata": {
    "colab": {
     "base_uri": "https://localhost:8080/"
    },
    "id": "JR43E28rM9Ak",
    "outputId": "a5785e15-e837-467f-c079-1336e92d7967"
   },
   "outputs": [],
   "source": [
    "torch.cuda.empty_cache()\n",
    "gc.collect()\n",
    "\n",
    "torch.autograd.set_detect_anomaly(False)\n",
    "\n",
    "for epoch in range(0, config['epochs']):\n",
    "\n",
    "    print(\"\\nEpoch: {}/{}\".format(epoch + 1, config['epochs']))\n",
    "\n",
    "    curr_lr = float(optimizer.param_groups[0]['lr'])\n",
    "\n",
    "    train_loss = train_model(model, train_loader, criterion, optimizer)\n",
    "\n",
    "    torch.cuda.empty_cache()\n",
    "\n",
    "    w0grad = list(model.named_parameters())[0][1].grad.data[0][0][0].item()\n",
    "\n",
    "    print(\"Epoch {}/{}: Train Loss {:.04f}\\t Learning Rate {:.04f}\\t w0grad = {}\".format(\n",
    "        epoch + 1,\n",
    "        config['epochs'],\n",
    "        train_loss,\n",
    "        curr_lr,\n",
    "        w0grad))\n",
    "\n",
    "    valid_loss, valid_dist = validate_model(model, val_loader, decoder, phoneme_map=npLABELS)\n",
    "    scheduler.step(valid_loss)\n",
    "\n",
    "    torch.cuda.empty_cache()\n",
    "\n",
    "    print(\"\\tVal Dist {:.04f}\\t Val Loss {:.04f}\".format(valid_dist, valid_loss))\n",
    "\n",
    "    wandb.log({\n",
    "        'train_loss': train_loss,\n",
    "        'valid_dist': valid_dist,\n",
    "        'valid_loss': valid_loss,\n",
    "        'lr': curr_lr,\n",
    "        'w0grad': w0grad,\n",
    "    })\n",
    "\n",
    "    save_model(model, optimizer, scheduler, ['valid_dist', valid_dist], epoch, epoch_model_path)\n",
    "    wandb.save(epoch_model_path)\n",
    "    print(\"Saved epoch model\")\n",
    "\n",
    "    if valid_dist <= best_lev_dist:\n",
    "        best_lev_dist = valid_dist\n",
    "        save_model(model, optimizer, scheduler, ['valid_dist', valid_dist], epoch, best_model_path)\n",
    "        wandb.save(best_model_path)\n",
    "        print(\"Saved best model\")"
   ]
  },
  {
   "cell_type": "code",
   "execution_count": null,
   "metadata": {},
   "outputs": [],
   "source": [
    "run.finish()"
   ]
  },
  {
   "cell_type": "markdown",
   "metadata": {
    "id": "M2H4EEj-sD32"
   },
   "source": [
    "# Generate Predictions and Submit to Kaggle"
   ]
  },
  {
   "cell_type": "code",
   "execution_count": 43,
   "metadata": {
    "id": "2moYJhTWsOG-"
   },
   "outputs": [
    {
     "name": "stdout",
     "output_type": "stream",
     "text": [
      "Testing\n"
     ]
    },
    {
     "name": "stderr",
     "output_type": "stream",
     "text": [
      "100%|██████████| 82/82 [01:28<00:00,  1.07s/it]\n"
     ]
    }
   ],
   "source": [
    "test_decoder = CTCBeamDecoder(LABELS, log_probs_input=True, **config['ctc_decoder_test'])\n",
    "\n",
    "results = []\n",
    "\n",
    "model.eval()\n",
    "print(\"Testing\")\n",
    "for data in tqdm(test_loader):\n",
    "\n",
    "    x, lx = data\n",
    "    x = x.reshape(x.shape, 1).to(device)\n",
    "\n",
    "    with torch.no_grad():\n",
    "        h, lh = model(x, lx)\n",
    "    prediction_strings = decode_prediction(h, lh, test_decoder, PHONEME_MAP=npLABELS)\n",
    "\n",
    "    for pred in prediction_strings:\n",
    "        results.append(''.join(pred))\n",
    "\n",
    "    del x, lx, h, lh\n",
    "    torch.cuda.empty_cache()"
   ]
  },
  {
   "cell_type": "code",
   "execution_count": 44,
   "metadata": {
    "id": "d70dvu_lsMlv"
   },
   "outputs": [
    {
     "name": "stdout",
     "output_type": "stream",
     "text": [
      "Warning: Your Kaggle API key is readable by other users on this system! To fix this, you can run 'chmod 600 /home/pab/.kaggle/kaggle.json'\r\n",
      "Warning: Looks like you're using an outdated API Version, please consider updating (server 1.5.13 / client 1.5.8)\r\n",
      "100%|█████████████████████████████████████████| 210k/210k [00:00<00:00, 301kB/s]\r\n",
      "Successfully submitted to Automatic Speech Recognition (ASR)"
     ]
    }
   ],
   "source": [
    "data_dir = './11-785-s23-hw3p2/test-clean/random_submission.csv'\n",
    "df = pd.read_csv(data_dir)\n",
    "df.label = results\n",
    "df.to_csv('submission.csv', index=False)\n",
    "\n",
    "!kaggle competitions submit -c 11-785-s23-hw3p2 -f submission.csv -m \"I made it!\""
   ]
  }
 ],
 "metadata": {
  "accelerator": "GPU",
  "colab": {
   "collapsed_sections": [
    "gg3-yJ8tok34",
    "R9v5ewZDMpYA",
    "PB6eh3gnMUzy",
    "g3ZQ75OcMUz0",
    "kg82HXa3MUz1"
   ],
   "provenance": []
  },
  "kernelspec": {
   "display_name": "Python 3 (ipykernel)",
   "language": "python",
   "name": "python3"
  },
  "language_info": {
   "codemirror_mode": {
    "name": "ipython",
    "version": 3
   },
   "file_extension": ".py",
   "mimetype": "text/x-python",
   "name": "python",
   "nbconvert_exporter": "python",
   "pygments_lexer": "ipython3",
   "version": "3.10.9"
  },
  "vscode": {
   "interpreter": {
    "hash": "bd385fe162c5ca0c84973b7dd5c518456272446b2b64e67c2a69f949ca7a1754"
   }
  }
 },
 "nbformat": 4,
 "nbformat_minor": 1
}
