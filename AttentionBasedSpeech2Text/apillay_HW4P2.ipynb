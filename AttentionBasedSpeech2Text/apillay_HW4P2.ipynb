{
 "cells": [
  {
   "cell_type": "markdown",
   "metadata": {
    "id": "8XpNMS7Vk6Df"
   },
   "source": [
    "# apillay -> HW4P2: Attention-based Speech Recognition\n",
    "\n",
    "### WanDB link: https://wandb.ai/audio-idl/hw4p2-ablations?workspace=user-apillay\n",
    "\n",
    "### Please find the following runs used to track the training for this work:\n",
    "v3090-66m (https://wandb.ai/audio-idl/hw4p2-ablations/runs/bejv4w15?workspace=user-apillay): Trained model from scratch\n",
    "v3090-66m-resume (https://wandb.ai/audio-idl/hw4p2-ablations/runs/jvqqfyeq?workspace=user-apillay): Trained from previous model’s last epoch checkpoint with the following changes:\n",
    "                                                                                                    - Weight Decay changed from 1e-2 to 1e-3\n",
    "                                                                                                    - Dropout p changed from 0.5 to 0.2\n",
    "                                                                                                    - Frequency masking factor changed from 3 to 5\n",
    "                                                                                                    - Time masking probability changed from 0.5 to 0.75\n",
    "                                                                                                    - Learning rate changed from 2e-4 to 6e-5\n",
    "                                                                                                    - ReduceLROnPlateau reduction factor changed from 0.75 to 0.8\n",
    "                                                                                                    - Teacher forcing rate changed from 1.0 to 0.5\n",
    "\n",
    "### Instructions to run the code: Run all cells in the following sequence!\n"
   ]
  },
  {
   "cell_type": "code",
   "execution_count": 1,
   "metadata": {
    "id": "8UK7J-dp5iN5"
   },
   "outputs": [
    {
     "name": "stdout",
     "output_type": "stream",
     "text": [
      "Fri May  5 17:21:55 2023       \n",
      "+-----------------------------------------------------------------------------+\n",
      "| NVIDIA-SMI 525.105.17   Driver Version: 525.105.17   CUDA Version: 12.0     |\n",
      "|-------------------------------+----------------------+----------------------+\n",
      "| GPU  Name        Persistence-M| Bus-Id        Disp.A | Volatile Uncorr. ECC |\n",
      "| Fan  Temp  Perf  Pwr:Usage/Cap|         Memory-Usage | GPU-Util  Compute M. |\n",
      "|                               |                      |               MIG M. |\n",
      "|===============================+======================+======================|\n",
      "|   0  NVIDIA GeForce ...  On   | 00000000:62:00.0 Off |                  N/A |\n",
      "|  0%   53C    P8    40W / 300W |      6MiB / 24576MiB |      0%      Default |\n",
      "|                               |                      |                  N/A |\n",
      "+-------------------------------+----------------------+----------------------+\n",
      "                                                                               \n",
      "+-----------------------------------------------------------------------------+\n",
      "| Processes:                                                                  |\n",
      "|  GPU   GI   CI        PID   Type   Process name                  GPU Memory |\n",
      "|        ID   ID                                                   Usage      |\n",
      "|=============================================================================|\n",
      "+-----------------------------------------------------------------------------+\n",
      "\n",
      "==============NVSMI LOG==============\n",
      "\n",
      "Timestamp                                 : Fri May  5 17:21:56 2023\n",
      "Driver Version                            : 525.105.17\n",
      "CUDA Version                              : 12.0\n",
      "\n",
      "Attached GPUs                             : 1\n",
      "GPU 00000000:62:00.0\n",
      "    Power Readings\n",
      "        Power Management                  : Supported\n",
      "        Power Draw                        : 29.97 W\n",
      "        Power Limit                       : 300.00 W\n",
      "        Default Power Limit               : 420.00 W\n",
      "        Enforced Power Limit              : 300.00 W\n",
      "        Min Power Limit                   : 100.00 W\n",
      "        Max Power Limit                   : 450.00 W\n",
      "    Power Samples\n",
      "        Duration                          : 47.64 sec\n",
      "        Number of Samples                 : 119\n",
      "        Max                               : 135.27 W\n",
      "        Min                               : 27.62 W\n",
      "        Avg                               : 35.48 W\n",
      "\n"
     ]
    }
   ],
   "source": [
    "!nvidia-smi\n",
    "!nvidia-smi -q -d POWER"
   ]
  },
  {
   "cell_type": "code",
   "execution_count": null,
   "metadata": {
    "id": "nYgaLmgy5iqR"
   },
   "outputs": [],
   "source": [
    "# Install some required libraries\n",
    "# Feel free to add more if you want\n",
    "!pip install -q python-levenshtein torchsummaryX wandb kaggle pytorch-nlp seaborn torchaudio torchinfo"
   ]
  },
  {
   "cell_type": "code",
   "execution_count": null,
   "metadata": {},
   "outputs": [],
   "source": [
    "!sudo apt-get install zip unzip"
   ]
  },
  {
   "cell_type": "markdown",
   "metadata": {
    "id": "yEkA_GGG-tTB"
   },
   "source": [
    "# Imports"
   ]
  },
  {
   "cell_type": "code",
   "execution_count": 2,
   "metadata": {
    "ExecuteTime": {
     "end_time": "2023-05-03T03:17:40.430445060Z",
     "start_time": "2023-05-03T03:17:38.403427992Z"
    },
    "id": "p0aXmrxM-usO"
   },
   "outputs": [
    {
     "name": "stdout",
     "output_type": "stream",
     "text": [
      "Device:  cuda\n"
     ]
    }
   ],
   "source": [
    "import os\n",
    "import gc\n",
    "import torch\n",
    "from torch import nn\n",
    "from torch.nn.utils.rnn import pad_packed_sequence, pack_padded_sequence, pad_sequence\n",
    "import torchaudio.transforms as tat\n",
    "import torchnlp.nn\n",
    "from torchinfo import summary\n",
    "import Levenshtein\n",
    "from matplotlib import pyplot as plt\n",
    "import seaborn as sns\n",
    "from tqdm import tqdm\n",
    "import numpy as np\n",
    "\n",
    "DEVICE = 'cuda' if torch.cuda.is_available() else 'cpu'\n",
    "print(\"Device: \", DEVICE)"
   ]
  },
  {
   "cell_type": "markdown",
   "metadata": {
    "id": "-njBvl2Opd6I"
   },
   "source": [
    "# Kaggle Dataset Download"
   ]
  },
  {
   "cell_type": "code",
   "execution_count": null,
   "metadata": {
    "id": "PTyWR2sIp0Ns"
   },
   "outputs": [],
   "source": [
    "!pip install --upgrade --force-reinstall --no-deps kaggle==1.5.8\n",
    "!rm -rf /root/.kaggle\n",
    "!mkdir /root/.kaggle\n",
    "\n",
    "with open(\"/root/.kaggle/kaggle.json\", \"w+\") as f:\n",
    "    f.write('{\"username\":\"ashwinpillay\",\"key\":\"<key>\"}')\n",
    "    # Put your kaggle username & key here\n",
    "\n",
    "!chmod 600 /root/.kaggle/kaggle.json"
   ]
  },
  {
   "cell_type": "code",
   "execution_count": null,
   "metadata": {
    "id": "F581gjfnqE2C"
   },
   "outputs": [],
   "source": [
    "# To download the dataset\n",
    "!kaggle datasets download -d varunjain3/11-785-s23-hw4p2-dataset"
   ]
  },
  {
   "cell_type": "code",
   "execution_count": null,
   "metadata": {
    "id": "7ko7QN16qF2V"
   },
   "outputs": [],
   "source": [
    "# To unzip data quickly and quietly\n",
    "!unzip -q 11-785-s23-hw4p2-dataset.zip -d ./data"
   ]
  },
  {
   "cell_type": "markdown",
   "metadata": {},
   "source": [
    "# Config"
   ]
  },
  {
   "cell_type": "code",
   "execution_count": 3,
   "metadata": {
    "ExecuteTime": {
     "end_time": "2023-05-03T03:17:46.538128753Z",
     "start_time": "2023-05-03T03:17:46.529433950Z"
    }
   },
   "outputs": [],
   "source": [
    "config = {\n",
    "    'batch_size': 128,\n",
    "    'lr': 6e-5,\n",
    "    'tf_rate': 0.5,\n",
    "    'tf_decay_factor': 0.9,\n",
    "    'tf_cooldown_period': 15,\n",
    "    'epochs': 500,\n",
    "    'max_timesteps': 550,\n",
    "    'rlrop_params': {\n",
    "        'factor': 0.8,\n",
    "        'patience': 4,\n",
    "        'threshold': 1,\n",
    "        'threshold_mode': 'rel',\n",
    "        'cooldown': 2,\n",
    "    },\n",
    "    'CA_lr_params': {\n",
    "        'T_max': 8,\n",
    "        'eta_min': 1e-6,\n",
    "    },\n",
    "    'dropout_p': 0.2,\n",
    "    'adamw_weight_decay': 1e-3,\n",
    "    'time_mask_maxl': 50,\n",
    "    'time_mask_p': 0.75,\n",
    "    'freq_mask_maxl': 5,\n",
    "    'num_workers_train': 6,\n",
    "    'num_workers_val': 4,\n",
    "    'num_workers_test': 4,\n",
    "}"
   ]
  },
  {
   "cell_type": "markdown",
   "metadata": {
    "id": "zUJyBBwIqQs6"
   },
   "source": [
    "# Dataset and Dataloaders\n",
    "\n",
    "We have given you 2 datasets. One is a toy dataset, and the other is the standard LibriSpeech dataset. The toy dataset is to help you get your code implemented and tested and debugged easily, to verify that your attention diagonal is produced correctly. Note however that it's task (phonetic transcription) is drawn from HW3P2, it is meant to be familiar and help you understand how to transition from phonetic transcription to alphabet transcription, with a working attention module.\n",
    "\n",
    "Please make sure you use the right constants in your code implementation for future modules, (SOS_TOKEN vs SOS_TOKEN_TOY) when working with either dataset. We have defined the constants accordingly below. Before you come to OH or post on piazza, make sure you aren't misuing the constants for either dataset in your code. "
   ]
  },
  {
   "cell_type": "markdown",
   "metadata": {
    "id": "1sjsbFuKWp7q"
   },
   "source": [
    "## LibriSpeech\n",
    "\n",
    "In terms of the dataset, the dataset structure for HW3P2 and HW4P2 dataset are very similar. Can you spot out the differences? What all will be required?? \n",
    "\n",
    "Hints:\n",
    "\n",
    "- Check how big is the dataset (do you require memory efficient loading techniques??)\n",
    "- How do we load mfccs? Do we need to normalise them? \n",
    "- Does the data have \\<SOS> and \\<EOS> tokens in each sequences? Do we remove them or do we not remove them? (Read writeup)\n",
    "- Would we want a collating function? Ask yourself: Why did we need a collate function last time?\n",
    "- Observe the VOCAB, is the dataset same as HW3P2? \n",
    "- Should you add augmentations, if yes which augmentations? When should you add augmentations? (Check bootcamp for answer)\n"
   ]
  },
  {
   "cell_type": "code",
   "execution_count": 4,
   "metadata": {
    "ExecuteTime": {
     "end_time": "2023-05-03T03:17:55.527273418Z",
     "start_time": "2023-05-03T03:17:55.519907633Z"
    },
    "colab": {
     "base_uri": "https://localhost:8080/"
    },
    "id": "MBMLGYX-kZcd",
    "outputId": "90d67714-0574-4557-e9f3-15a4fcf8a7de"
   },
   "outputs": [
    {
     "name": "stdout",
     "output_type": "stream",
     "text": [
      "Length of vocab: 31\n",
      "Vocab: ['<pad>', '<sos>', '<eos>', 'A', 'B', 'C', 'D', 'E', 'F', 'G', 'H', 'I', 'J', 'K', 'L', 'M', 'N', 'O', 'P', 'Q', 'R', 'S', 'T', 'U', 'V', 'W', 'X', 'Y', 'Z', \"'\", ' ']\n",
      "PAD_TOKEN: 0\n",
      "SOS_TOKEN: 1\n",
      "EOS_TOKEN: 2\n"
     ]
    }
   ],
   "source": [
    "VOCAB = ['<pad>', '<sos>', '<eos>',\n",
    "         'A',   'B',    'C',    'D',    \n",
    "         'E',   'F',    'G',    'H',    \n",
    "         'I',   'J',    'K',    'L',       \n",
    "         'M',   'N',    'O',    'P',    \n",
    "         'Q',   'R',    'S',    'T', \n",
    "         'U',   'V',    'W',    'X', \n",
    "         'Y',   'Z',    \"'\",    ' ', \n",
    "         ]\n",
    "\n",
    "VOCAB_MAP = {VOCAB[i]:i for i in range(0, len(VOCAB))}\n",
    "\n",
    "PAD_TOKEN = VOCAB_MAP[\"<pad>\"]\n",
    "SOS_TOKEN = VOCAB_MAP[\"<sos>\"]\n",
    "EOS_TOKEN = VOCAB_MAP[\"<eos>\"]\n",
    "\n",
    "print(f\"Length of vocab: {len(VOCAB)}\")\n",
    "print(f\"Vocab: {VOCAB}\")\n",
    "print(f\"PAD_TOKEN: {PAD_TOKEN}\")\n",
    "print(f\"SOS_TOKEN: {SOS_TOKEN}\")\n",
    "print(f\"EOS_TOKEN: {EOS_TOKEN}\")"
   ]
  },
  {
   "cell_type": "code",
   "execution_count": 5,
   "metadata": {
    "ExecuteTime": {
     "end_time": "2023-05-03T03:17:57.251505412Z",
     "start_time": "2023-05-03T03:17:57.243574608Z"
    }
   },
   "outputs": [],
   "source": [
    "# Utils for network\n",
    "torch.cuda.empty_cache()\n",
    "\n",
    "\n",
    "class PermuteBlock(nn.Module):\n",
    "    def forward(self, x):\n",
    "        return x.transpose(1, 2)"
   ]
  },
  {
   "cell_type": "code",
   "execution_count": 6,
   "metadata": {
    "ExecuteTime": {
     "end_time": "2023-05-03T03:17:58.782574619Z",
     "start_time": "2023-05-03T03:17:58.777193596Z"
    }
   },
   "outputs": [],
   "source": [
    "def cepstral_normalize(mfcc):\n",
    "    mean_mfcc = np.mean(mfcc, axis=0)\n",
    "    std_mfcc = np.std(mfcc, axis=0) + np.finfo('float').eps\n",
    "    normalized_mfcc = (mfcc - mean_mfcc) / std_mfcc\n",
    "    return normalized_mfcc"
   ]
  },
  {
   "cell_type": "code",
   "execution_count": 7,
   "metadata": {
    "ExecuteTime": {
     "end_time": "2023-05-03T03:18:00.233362686Z",
     "start_time": "2023-05-03T03:18:00.231310736Z"
    },
    "id": "VuneWaTStdF2"
   },
   "outputs": [],
   "source": [
    "class SpeechDatasetTrain(torch.utils.data.Dataset):\n",
    "\n",
    "    def __init__(self, root1='.', root2=None):\n",
    "        '''\n",
    "        Initializes the dataset.\n",
    "        '''\n",
    "\n",
    "        self.mfcc_paths, self.transcript_paths = [], []\n",
    "        self.VOCAB = VOCAB\n",
    "\n",
    "        self.augmentations = torch.nn.Sequential(\n",
    "            PermuteBlock(),\n",
    "            tat.TimeMasking(time_mask_param=config['time_mask_maxl'], p=config['time_mask_p']),\n",
    "            tat.FrequencyMasking(freq_mask_param=config['freq_mask_maxl']),\n",
    "            PermuteBlock(),\n",
    "        )\n",
    "\n",
    "        roots = [root1]\n",
    "        if root2 is not None:\n",
    "            roots.append(root2)\n",
    "\n",
    "        for root in roots:\n",
    "            print(\"=> Loading paths from: {}\".format(root))\n",
    "            mfcc_dir = os.path.join(root, 'mfcc')\n",
    "            transcript_dir = os.path.join(root, 'transcripts')\n",
    "\n",
    "            mfcc_files = sorted(os.listdir(mfcc_dir))\n",
    "            transcript_files = sorted(os.listdir(transcript_dir))\n",
    "\n",
    "            root_file_length = len(mfcc_files)\n",
    "            for i in tqdm(range(root_file_length)):\n",
    "                self.mfcc_paths.append(os.path.join(root, 'mfcc', mfcc_files[i]))\n",
    "                self.transcript_paths.append(os.path.join(root, 'transcripts', transcript_files[i]))\n",
    "        # Train Dataset only initializes with path to reduce CPU RAM usage (empirically found that fetching data during __getitem__ is not too costly!\n",
    "\n",
    "        assert len(self.mfcc_paths) == len(self.transcript_paths)\n",
    "        self.length = len(self.mfcc_paths)\n",
    "\n",
    "    def __len__(self):\n",
    "        return self.length\n",
    "\n",
    "    def __getitem__(self, ind):\n",
    "        '''\n",
    "        Return a tuple of features and labels.\n",
    "        '''\n",
    "        return self.mfcc_paths[ind], self.transcript_paths[ind]\n",
    "\n",
    "    def collate_fn(self, batch):\n",
    "        '''\n",
    "        1.  Extract the features and labels from 'batch'\n",
    "        2.  We will additionally need to pad both features and labels,\n",
    "            look at pytorch's docs for pad_sequence\n",
    "        3.  This is a good place to perform transforms, if you so wish.\n",
    "            Performing them on batches will speed the process up a bit.\n",
    "        4.  Return batch of features, labels, lenghts of features,\n",
    "            and lengths of labels.\n",
    "        '''\n",
    "\n",
    "        # batch of input mfcc coefficients\n",
    "        batch_mfcc_paths = [bitem[0] for bitem in batch]\n",
    "\n",
    "        # batch of output phonemes\n",
    "        batch_transcript_paths = [bitem[1] for bitem in batch]\n",
    "\n",
    "        batch_mfcc, batch_transcript = [], []\n",
    "        for mffc_ind in range(len(batch_mfcc_paths)):\n",
    "            mfcc = np.load(batch_mfcc_paths[mffc_ind])\n",
    "            mfcc = cepstral_normalize(mfcc)\n",
    "            mfcc = torch.FloatTensor(mfcc)\n",
    "            batch_mfcc.append(mfcc)\n",
    "\n",
    "            transcript = np.load(batch_transcript_paths[mffc_ind])[1:-1]\n",
    "            transcript_maps = [self.VOCAB.index(j) for j in transcript]\n",
    "            transcript = torch.tensor(transcript_maps)\n",
    "            batch_transcript.append(transcript)\n",
    "\n",
    "        lengths_mfcc = [len(mfcc_i) for mfcc_i in batch_mfcc]\n",
    "\n",
    "        lengths_transcript = [len(transcript_i) for transcript_i in batch_transcript]\n",
    "\n",
    "        batch_mfcc_pad = pad_sequence(batch_mfcc, batch_first=True, padding_value=EOS_TOKEN)\n",
    "        batch_transcript_pad = pad_sequence(batch_transcript, batch_first=True, padding_value=EOS_TOKEN)\n",
    "\n",
    "        batch_mfcc_pad = self.augmentations(batch_mfcc_pad)\n",
    "\n",
    "        # Return the following values: padded features, padded labels, actual length of features, actual length of the labels\n",
    "        return batch_mfcc_pad, batch_transcript_pad, torch.tensor(lengths_mfcc), torch.tensor(lengths_transcript)"
   ]
  },
  {
   "cell_type": "code",
   "execution_count": 8,
   "metadata": {
    "ExecuteTime": {
     "end_time": "2023-05-03T03:18:03.002338155Z",
     "start_time": "2023-05-03T03:18:02.993969652Z"
    }
   },
   "outputs": [],
   "source": [
    "class SpeechDatasetValidate(torch.utils.data.Dataset):\n",
    "\n",
    "    def __init__(self, root1='.', root2=None):\n",
    "        '''\n",
    "        Initializes the dataset.\n",
    "\n",
    "        '''\n",
    "\n",
    "        # Load the directory and all files in them\n",
    "\n",
    "        self.mfccs, self.transcripts = [], []\n",
    "        self.VOCAB = VOCAB\n",
    "\n",
    "        roots = [root1]\n",
    "        if root2 is not None:\n",
    "            roots.append(root2)\n",
    "\n",
    "        for root in roots:\n",
    "            print(\"=> Loading from: {}\".format(root))\n",
    "            mfcc_dir = os.path.join(root, 'mfcc')\n",
    "            transcript_dir = os.path.join(root, 'transcripts')\n",
    "\n",
    "            mfcc_files = sorted(os.listdir(mfcc_dir))\n",
    "            transcript_files = sorted(os.listdir(transcript_dir))\n",
    "\n",
    "            root_file_length = len(mfcc_files)\n",
    "            for i in tqdm(range(root_file_length)):\n",
    "                mfcc = np.load(os.path.join(root, 'mfcc', mfcc_files[i]))\n",
    "                mfcc = cepstral_normalize(mfcc)\n",
    "                self.mfccs.append(mfcc)\n",
    "\n",
    "                transcript = np.load(os.path.join(root, 'transcripts', transcript_files[i]))[1:-1]\n",
    "                transcript_maps = [self.VOCAB.index(j) for j in transcript]\n",
    "                self.transcripts.append(transcript_maps)\n",
    "\n",
    "        assert len(self.mfccs) == len(self.transcripts)\n",
    "        self.length = len(self.mfccs)\n",
    "\n",
    "    def __len__(self):\n",
    "        return self.length\n",
    "\n",
    "    def __getitem__(self, ind):\n",
    "        '''\n",
    "        Return a tuple of features and labels.\n",
    "        '''\n",
    "        mfcc = torch.FloatTensor(self.mfccs[ind])\n",
    "        transcript = torch.tensor(self.transcripts[ind])\n",
    "        return mfcc, transcript\n",
    "\n",
    "    def collate_fn(self, batch):\n",
    "        '''\n",
    "        1.  Extract the features and labels from 'batch'\n",
    "        2.  We will additionally need to pad both features and labels,\n",
    "            look at pytorch's docs for pad_sequence\n",
    "        3.  This is a good place to perform transforms, if you so wish.\n",
    "            Performing them on batches will speed the process up a bit.\n",
    "        4.  Return batch of features, labels, lenghts of features,\n",
    "            and lengths of labels.\n",
    "        '''\n",
    "        # batch of input mfcc coefficients\n",
    "\n",
    "        batch_mfcc = [bitem[0] for bitem in batch]\n",
    "\n",
    "        # batch of output phonemes\n",
    "        batch_transcript = [bitem[1] for bitem in batch]\n",
    "\n",
    "        batch_mfcc_pad = pad_sequence(batch_mfcc, batch_first=True, padding_value=EOS_TOKEN)\n",
    "        lengths_mfcc = [len(mfcc_i) for mfcc_i in batch_mfcc]\n",
    "\n",
    "        batch_transcript_pad = pad_sequence(batch_transcript, batch_first=True, padding_value=EOS_TOKEN)\n",
    "        lengths_transcript = [len(transcript_i) for transcript_i in batch_transcript]\n",
    "\n",
    "        # Return the following values: padded features, padded labels, actual length of features, actual length of the labels\n",
    "        return batch_mfcc_pad, batch_transcript_pad, torch.tensor(lengths_mfcc), torch.tensor(lengths_transcript)"
   ]
  },
  {
   "cell_type": "code",
   "execution_count": 9,
   "metadata": {
    "ExecuteTime": {
     "end_time": "2023-05-03T03:18:05.293415028Z",
     "start_time": "2023-05-03T03:18:05.287774752Z"
    }
   },
   "outputs": [],
   "source": [
    "class SpeechDatasetTest(torch.utils.data.Dataset):\n",
    "\n",
    "    def __init__(self, root='.'):\n",
    "        '''\n",
    "        Initializes the dataset.\n",
    "\n",
    "        INPUTS: What inputs do you need here?\n",
    "        '''\n",
    "\n",
    "        # Load the directory and all files in them\n",
    "\n",
    "        self.mfcc_dir = os.path.join(root, 'mfcc')\n",
    "\n",
    "        self.mfcc_files = sorted(os.listdir(self.mfcc_dir))\n",
    "\n",
    "        self.length = len(self.mfcc_files)\n",
    "\n",
    "        self.mfccs = []\n",
    "        for i in tqdm(range(self.length)):\n",
    "            mfcc = np.load(os.path.join(root, 'mfcc', self.mfcc_files[i]))\n",
    "            mfcc = cepstral_normalize(mfcc)\n",
    "            self.mfccs.append(mfcc)\n",
    "\n",
    "    def __len__(self):\n",
    "        return self.length\n",
    "\n",
    "    def __getitem__(self, ind):\n",
    "        '''\n",
    "        Return a tuple of features and labels.\n",
    "        '''\n",
    "\n",
    "        mfcc = torch.FloatTensor(self.mfccs[ind])\n",
    "        return mfcc\n",
    "\n",
    "    def collate_fn(self, batch):\n",
    "        '''\n",
    "        1.  Extract the features and labels from 'batch'\n",
    "        2.  We will additionally need to pad both features and labels,\n",
    "            look at pytorch's docs for pad_sequence\n",
    "        3.  This is a good place to perform transforms, if you so wish.\n",
    "            Performing them on batches will speed the process up a bit.\n",
    "        4.  Return batch of features, labels, lenghts of features,\n",
    "            and lengths of labels.\n",
    "        '''\n",
    "        # batch of input mfcc coefficients\n",
    "\n",
    "        batch_mfcc = batch\n",
    "\n",
    "        batch_mfcc_pad = pad_sequence(batch_mfcc, batch_first=True, padding_value=EOS_TOKEN)\n",
    "        lengths_mfcc = [len(mfcc_i) for mfcc_i in batch_mfcc]\n",
    "\n",
    "        # Return the following values: padded features, actual length of features\n",
    "        return batch_mfcc_pad, torch.tensor(lengths_mfcc)"
   ]
  },
  {
   "cell_type": "code",
   "execution_count": 10,
   "metadata": {
    "ExecuteTime": {
     "end_time": "2023-05-03T03:18:09.450867440Z",
     "start_time": "2023-05-03T03:18:07.345126105Z"
    },
    "id": "tzuIXCyAuNvo"
   },
   "outputs": [
    {
     "name": "stdout",
     "output_type": "stream",
     "text": [
      "Loading Train Dataset: \n",
      "=> Loading paths from: ./data/train-clean-100\n"
     ]
    },
    {
     "name": "stderr",
     "output_type": "stream",
     "text": [
      "100%|██████████| 28539/28539 [00:00<00:00, 275852.53it/s]\n"
     ]
    },
    {
     "name": "stdout",
     "output_type": "stream",
     "text": [
      "Loading Val Dataset: \n",
      "=> Loading from: ./data/dev-clean\n"
     ]
    },
    {
     "name": "stderr",
     "output_type": "stream",
     "text": [
      "100%|██████████| 2703/2703 [00:01<00:00, 1643.98it/s]\n"
     ]
    },
    {
     "name": "stdout",
     "output_type": "stream",
     "text": [
      "Loading Test Dataset: \n"
     ]
    },
    {
     "name": "stderr",
     "output_type": "stream",
     "text": [
      "100%|██████████| 2620/2620 [00:00<00:00, 2855.96it/s]"
     ]
    },
    {
     "name": "stdout",
     "output_type": "stream",
     "text": [
      "\n",
      "Batch size:  128\n",
      "Train dataset samples = 28539, batches = 223\n",
      "Val dataset samples = 2703, batches = 22\n",
      "Test dataset samples = 2620, batches = 21\n"
     ]
    },
    {
     "name": "stderr",
     "output_type": "stream",
     "text": [
      "\n"
     ]
    }
   ],
   "source": [
    "gc.collect()\n",
    "\n",
    "# Create objects for the dataset class\n",
    "print(\"Loading Train Dataset: \")\n",
    "train_data = SpeechDatasetTrain(root1='./data/train-clean-100')\n",
    "\n",
    "print(\"Loading Val Dataset: \")\n",
    "val_data = SpeechDatasetValidate(root1='./data/dev-clean')\n",
    "\n",
    "print(\"Loading Test Dataset: \")\n",
    "test_data = SpeechDatasetTest(root='./data/test-clean')\n",
    "\n",
    "# Do NOT forget to pass in the collate function as parameter while creating the dataloader\n",
    "train_loader = torch.utils.data.DataLoader(\n",
    "    dataset=train_data,\n",
    "    collate_fn=train_data.collate_fn,\n",
    "    num_workers=config['num_workers_train'],\n",
    "    batch_size=config['batch_size'],\n",
    "    pin_memory=True,\n",
    "    shuffle=True\n",
    ")\n",
    "\n",
    "val_loader = torch.utils.data.DataLoader(\n",
    "    dataset=val_data,\n",
    "    collate_fn=val_data.collate_fn,\n",
    "    num_workers=config['num_workers_val'],\n",
    "    batch_size=config['batch_size'],\n",
    "    pin_memory=True,\n",
    "    shuffle=False\n",
    ")\n",
    "\n",
    "test_loader = torch.utils.data.DataLoader(\n",
    "    dataset=test_data,\n",
    "    collate_fn=test_data.collate_fn,\n",
    "    num_workers=config['num_workers_test'],\n",
    "    batch_size=config['batch_size'],\n",
    "    pin_memory=True,\n",
    "    shuffle=False\n",
    ")\n",
    "\n",
    "print(\"\\nBatch size: \", config['batch_size'])\n",
    "print(\"Train dataset samples = {}, batches = {}\".format(train_data.__len__(), len(train_loader)))\n",
    "print(\"Val dataset samples = {}, batches = {}\".format(val_data.__len__(), len(val_loader)))\n",
    "print(\"Test dataset samples = {}, batches = {}\".format(test_data.__len__(), len(test_loader)))"
   ]
  },
  {
   "cell_type": "code",
   "execution_count": 11,
   "metadata": {
    "ExecuteTime": {
     "end_time": "2023-05-03T03:18:10.855330890Z",
     "start_time": "2023-05-03T03:18:10.854285989Z"
    }
   },
   "outputs": [],
   "source": [
    "gc.collect()\n",
    "torch.cuda.empty_cache()"
   ]
  },
  {
   "cell_type": "code",
   "execution_count": 12,
   "metadata": {
    "ExecuteTime": {
     "end_time": "2023-05-03T03:18:13.728513092Z",
     "start_time": "2023-05-03T03:18:12.053995080Z"
    }
   },
   "outputs": [
    {
     "name": "stdout",
     "output_type": "stream",
     "text": [
      "torch.Size([128, 1634, 27]) torch.Size([128, 300]) torch.Size([128]) torch.Size([128])\n"
     ]
    },
    {
     "data": {
      "image/png": "[encoded data removed]",
      "text/plain": [
       "<Figure size 640x480 with 1 Axes>"
      ]
     },
     "metadata": {},
     "output_type": "display_data"
    }
   ],
   "source": [
    "for data in train_loader:\n",
    "    x, y, lx, ly = data\n",
    "    print(x.shape, y.shape, lx.shape, ly.shape)\n",
    "    # Plots train data with its augmentations\n",
    "    plt.imshow(x[0].T, interpolation='nearest', aspect='auto', cmap='viridis')\n",
    "    plt.show()\n",
    "    break"
   ]
  },
  {
   "cell_type": "markdown",
   "source": [
    "# THE MODEL\n",
    "\n",
    "### Listen, Attend and Spell\n",
    "Listen, Attend and Spell (LAS) is a neural network model used for speech recognition and synthesis tasks.\n",
    "\n",
    "- LAS is designed to handle long input sequences and is robust to noisy speech signals.\n",
    "- LAS is known for its high accuracy and ability to improve over time with additional training data.\n",
    "- It consists of an <b>listener, an attender and a speller</b>, which work together to convert an input speech signal into a corresponding output text.\n",
    "\n",
    "#### The Listener:\n",
    "- converts the input speech signal into a sequence of hidden states.\n",
    "\n",
    "#### The Attender:\n",
    "- Decides how the sequence of Encoder hidden state is propogated to decoder.\n",
    "\n",
    "#### The Speller:\n",
    "- A language model, that incorporates the \"context of attender\"(output of attender) to predict sequence of words.\n",
    "\n",
    "\n",
    "\n",
    "\n"
   ],
   "metadata": {
    "collapsed": false
   }
  },
  {
   "cell_type": "markdown",
   "source": [
    "## The Listener:\n",
    "### Borrowed Liberally from the encoder of my HW3P2 submission"
   ],
   "metadata": {
    "collapsed": false
   }
  },
  {
   "cell_type": "code",
   "execution_count": 13,
   "metadata": {
    "ExecuteTime": {
     "end_time": "2023-05-03T03:18:17.940127811Z",
     "start_time": "2023-05-03T03:18:17.933650062Z"
    }
   },
   "outputs": [],
   "source": [
    "class Resnet34ResidualBlock1d(nn.Module):\n",
    "    def __init__(self, in_channels, out_channels, stride=1, kernel_size=3, padding=1):\n",
    "        super(Resnet34ResidualBlock1d, self).__init__()\n",
    "        self.cnn1 = nn.Sequential(\n",
    "            nn.Conv1d(in_channels, out_channels, kernel_size, stride, padding, bias=False),\n",
    "            nn.BatchNorm1d(out_channels),\n",
    "            nn.ReLU(True)\n",
    "        )\n",
    "        self.cnn2 = nn.Sequential(\n",
    "            nn.Conv1d(out_channels, out_channels, kernel_size, 1, padding, bias=False),\n",
    "            nn.BatchNorm1d(out_channels)\n",
    "        )\n",
    "        if stride != 1 or in_channels != out_channels:\n",
    "            self.shortcut = nn.Sequential(\n",
    "                nn.Conv1d(in_channels, out_channels, kernel_size=1, stride=stride, bias=False),\n",
    "                nn.BatchNorm1d(out_channels)\n",
    "            )\n",
    "        else:\n",
    "            self.shortcut = nn.Sequential()\n",
    "\n",
    "    def forward(self, x):\n",
    "        residual = x\n",
    "        x = self.cnn1(x)\n",
    "        x = self.cnn2(x)\n",
    "        x += self.shortcut(residual)\n",
    "        x = nn.ReLU(True)(x)\n",
    "        return x"
   ]
  },
  {
   "cell_type": "code",
   "execution_count": 14,
   "metadata": {
    "ExecuteTime": {
     "end_time": "2023-05-03T03:18:19.637133283Z",
     "start_time": "2023-05-03T03:18:19.632284662Z"
    }
   },
   "outputs": [],
   "source": [
    "class pBLSTM(nn.Module):\n",
    "    '''\n",
    "    Pyramidal BiLSTM\n",
    "    Read the writeup/paper and understand the concepts and then write your implementation here.\n",
    "\n",
    "    At each step,\n",
    "    1. Pad your input if it is packed (Unpack it)\n",
    "    2. Reduce the input length dimension by concatenating feature dimension\n",
    "        (Tip: Write down the shapes and understand)\n",
    "        (i) How should  you deal with odd/even length input?\n",
    "        (ii) How should you deal with input length array (x_lens) after truncating the input?\n",
    "    3. Pack your input\n",
    "    4. Pass it into LSTM layer\n",
    "\n",
    "    To make our implementation modular, we pass 1 layer at a time.\n",
    "    '''\n",
    "\n",
    "    def __init__(self, input_size, hidden_size, n_lstm=1):\n",
    "        super(pBLSTM, self).__init__()\n",
    "\n",
    "        self.ld = torchnlp.nn.LockedDropout(p=config['dropout_p'])\n",
    "\n",
    "        self.ln = nn.LayerNorm(input_size * 2, eps=1e-06)\n",
    "\n",
    "        self.blstm = nn.LSTM(input_size=input_size * 2, hidden_size=hidden_size, num_layers=n_lstm, bidirectional=True,\n",
    "                             batch_first=True)\n",
    "\n",
    "    def forward(self, x_packed):  # x_packed is a PackedSequence\n",
    "\n",
    "        # Pad Packed Sequence\n",
    "        x, x_lens = pad_packed_sequence(x_packed, batch_first=True, padding_value=0.0)\n",
    "\n",
    "        x, x_lens = self.trunc_reshape(x, x_lens)\n",
    "\n",
    "        x = torch.permute(x, (1, 0, 2))\n",
    "        x = self.ld(x)\n",
    "        x = self.ln(x)\n",
    "        x = torch.permute(x, (1, 0, 2))\n",
    "\n",
    "        # Pack Padded Sequence.\n",
    "        x = pack_padded_sequence(x, lengths=x_lens, batch_first=True, enforce_sorted=False)\n",
    "\n",
    "        # Pass the sequence through bLSTM\n",
    "        x, _ = self.blstm(x)\n",
    "\n",
    "        return x\n",
    "\n",
    "    def trunc_reshape(self, x, x_lens):\n",
    "        if x.size(dim=1) % 2 == 1:\n",
    "            x = x[:, :-1, :]\n",
    "        x = x.reshape(x.shape[0], x.shape[1] // 2, x.shape[2] * 2)\n",
    "        x_lens //= 2\n",
    "        return x, x_lens"
   ]
  },
  {
   "cell_type": "code",
   "execution_count": 15,
   "metadata": {
    "ExecuteTime": {
     "end_time": "2023-05-03T03:18:21.658617610Z",
     "start_time": "2023-05-03T03:18:21.650688691Z"
    }
   },
   "outputs": [],
   "source": [
    "class Listener(nn.Module):\n",
    "    '''\n",
    "    The Encoder takes utterances as inputs and returns latent feature representations\n",
    "    '''\n",
    "\n",
    "    def __init__(self, input_feature_size=27, encoder_hidden_size=256):\n",
    "        super(Listener, self).__init__()\n",
    "\n",
    "        self.embedding_stride = 1\n",
    "        self.embedding_kernel_size = 3\n",
    "        self.embedding_padding = 1\n",
    "\n",
    "        self.embedding = nn.Sequential(\n",
    "            PermuteBlock(),\n",
    "            Resnet34ResidualBlock1d(in_channels=input_feature_size, out_channels=1024, stride=self.embedding_stride,\n",
    "                                    kernel_size=self.embedding_kernel_size, padding=self.embedding_padding),\n",
    "            PermuteBlock(),\n",
    "        )\n",
    "\n",
    "        self.pBLSTMs = nn.Sequential(\n",
    "            pBLSTM(input_size=1024, hidden_size=encoder_hidden_size, n_lstm=2),\n",
    "            pBLSTM(input_size=encoder_hidden_size * 2, hidden_size=encoder_hidden_size, n_lstm=2),\n",
    "        )\n",
    "\n",
    "    def forward(self, x, x_lens):\n",
    "        # Call the embedding layer\n",
    "        x = self.embedding(x)\n",
    "        # x_lens = (x_lens - self.embedding_kernel_size + 2 * self.embedding_padding) // self.embedding_stride\n",
    "\n",
    "        # Pack Padded Sequence\n",
    "        x = pack_padded_sequence(x, lengths=x_lens, batch_first=True, enforce_sorted=False)\n",
    "\n",
    "        # Pass Sequence through the pyramidal Bi-LSTM layer\n",
    "        x = self.pBLSTMs(x)\n",
    "\n",
    "        # Pad Packed Sequence\n",
    "        encoder_outputs, encoder_lens = pad_packed_sequence(x, batch_first=True, padding_value=0.0)\n",
    "\n",
    "        return encoder_outputs, encoder_lens"
   ]
  },
  {
   "cell_type": "markdown",
   "source": [
    "## Attention"
   ],
   "metadata": {
    "collapsed": false
   }
  },
  {
   "cell_type": "code",
   "execution_count": 16,
   "metadata": {
    "id": "771TXxn7ViOW"
   },
   "outputs": [],
   "source": [
    "# Dot Product Attention:\n",
    "class Attention(nn.Module):\n",
    "    '''\n",
    "    Attention is calculated using the key, value (from encoder embeddings) and query from decoder.\n",
    "\n",
    "    After obtaining the raw weights, compute and return attention weights and context as follows.:\n",
    "\n",
    "    attention_weights   = softmax(raw_weights)\n",
    "    attention_context   = einsum(\"thinkwhatwouldbetheequationhere\",attention, value) #take hint from raw_weights calculation\n",
    "\n",
    "    At the end, you can pass context through a linear layer too.\n",
    "    '''\n",
    "\n",
    "    def __init__(self, encoder_hidden_size, decoder_hidden_size, projection_size):\n",
    "        super(Attention, self).__init__()\n",
    "        self.VW = nn.Linear(in_features=encoder_hidden_size * 2, out_features=projection_size)\n",
    "        self.KW = nn.Linear(in_features=encoder_hidden_size * 2, out_features=projection_size)\n",
    "        self.QW = nn.Linear(in_features=decoder_hidden_size, out_features=projection_size)\n",
    "\n",
    "    def set_key_value(self, encoder_outputs):\n",
    "        '''\n",
    "        In this function we take the encoder embeddings and make key and values from it.\n",
    "        key.shape   = (batch_size, timesteps, projection_size)\n",
    "        value.shape = (batch_size, timesteps, projection_size)\n",
    "        '''\n",
    "        self.key = self.KW(encoder_outputs)\n",
    "        self.value = self.VW(encoder_outputs)\n",
    "\n",
    "    def compute_context(self, decoder_context):\n",
    "        '''\n",
    "        In this function from decoder context, we make the query, and then we\n",
    "         multiply the queries with the keys to find the attention logits,\n",
    "         finally we take a softmax to calculate attention energy which gets\n",
    "         multiplied to the generted values and then gets summed.\n",
    "\n",
    "        key.shape   = (batch_size, timesteps, projection_size) -> (B, P, T)\n",
    "        value.shape = (batch_size, timesteps, projection_size)\n",
    "        query.shape = (batch_size, 1, projection_size) -> (B, 1, P)\n",
    "\n",
    "        You are also recomended to check out Abu's Lecture 19 to understand Attention better.\n",
    "        '''\n",
    "\n",
    "        query = self.QW(decoder_context)  # (batch_size, 1, projection_size)\n",
    "\n",
    "        # Using bmm or einsum. We need to perform batch matrix multiplication. It is important you do this step correctly.\n",
    "        # What will be the shape of raw_weights?\n",
    "        raw_weights = torch.bmm(query, self.key.mT) / (query.shape[1] ** 0.5)  # (B, 1, T)\n",
    "\n",
    "        # Raw_weights -> attention_weights\n",
    "        attention_weights = nn.functional.softmax(raw_weights, dim=2)  # over dim=T\n",
    "\n",
    "        # Multiply attention weights to values\n",
    "        attention_context = torch.bmm(attention_weights, self.value)\n",
    "\n",
    "        return attention_context, attention_weights"
   ]
  },
  {
   "cell_type": "markdown",
   "metadata": {
    "ExecuteTime": {
     "end_time": "2023-05-02T19:14:42.379942316Z",
     "start_time": "2023-05-02T19:14:42.372367901Z"
    },
    "id": "4Sp1WywZmm1L"
   },
   "source": [
    "## The Speller\n",
    "\n",
    "Similar to the language model that you coded up for HW4P1, you have to code a language model for HW4P2 as well. This time, we will also call theattention context step, within the decoder to get the attended-encoder-embeddings.\n"
   ]
  },
  {
   "cell_type": "code",
   "execution_count": 17,
   "metadata": {},
   "outputs": [],
   "source": [
    "# Derived from: https://pytorchnlp.readthedocs.io/en/latest/_modules/torchnlp/nn/lock_dropout.html\n",
    "class LockedDropoutCell(nn.Module):\n",
    "    def __init__(self, p=0.5):\n",
    "        self.p = p\n",
    "        super().__init__()\n",
    "        self.mask = None\n",
    "\n",
    "    def create_mask(self, x):\n",
    "        mask = x.new_empty(x.size(0), x.size(1), requires_grad=False).bernoulli_(1 - self.p)\n",
    "        mask = mask.div_(1 - self.p)\n",
    "        self.mask = mask.expand_as(x)\n",
    "\n",
    "    def delete_mask(self):\n",
    "        self.mask = None\n",
    "\n",
    "    def forward(self, x):\n",
    "        if not self.training or not self.p:\n",
    "            return x\n",
    "\n",
    "        if self.mask is None:\n",
    "            self.create_mask(x.clone())\n",
    "        return x * self.mask"
   ]
  },
  {
   "cell_type": "code",
   "execution_count": 18,
   "metadata": {
    "ExecuteTime": {
     "end_time": "2023-05-03T03:37:45.452156984Z",
     "start_time": "2023-05-03T03:37:45.407981964Z"
    },
    "id": "nFkc6MbnlUPu"
   },
   "outputs": [],
   "source": [
    "class Speller(torch.nn.Module):\n",
    "\n",
    "    def __init__(self, attender: Attention, vocab_size, encoder_hidden_size, decoder_embedding_size=256,\n",
    "                 attention_projection_size=128, decoder_hidden_size=256, max_timesteps=550):\n",
    "        super().__init__()\n",
    "\n",
    "        self.encoder_hidden_size = encoder_hidden_size\n",
    "\n",
    "        self.max_timesteps = max_timesteps\n",
    "\n",
    "        self.attend = attender  # Attention object in speller\n",
    "\n",
    "        # Embedding layer to convert token to latent space\n",
    "        self.embedding = nn.Embedding(num_embeddings=vocab_size, embedding_dim=decoder_embedding_size)\n",
    "\n",
    "        # Sequence of LSTM Cells\n",
    "        self.lstm_cells = nn.Sequential(\n",
    "            nn.LSTMCell(input_size=decoder_embedding_size + attention_projection_size, hidden_size=decoder_hidden_size),\n",
    "            nn.LSTMCell(input_size=decoder_hidden_size, hidden_size=decoder_hidden_size),\n",
    "            nn.LSTMCell(input_size=decoder_hidden_size, hidden_size=decoder_hidden_size),\n",
    "            nn.LSTMCell(input_size=decoder_hidden_size, hidden_size=decoder_hidden_size),\n",
    "        )\n",
    "\n",
    "        self.lds = nn.Sequential(\n",
    "            LockedDropoutCell(p=config['dropout_p']),\n",
    "            LockedDropoutCell(p=config['dropout_p']),\n",
    "            LockedDropoutCell(p=config['dropout_p']),\n",
    "            LockedDropoutCell(p=config['dropout_p'])\n",
    "        )\n",
    "\n",
    "        # For CDN (Feel free to change)\n",
    "\n",
    "        # Linear module to convert outputs to correct hidden size\n",
    "        # + Linear layer to convert hidden space back to logits for token classification\n",
    "        self.char_prob = nn.Sequential(\n",
    "            nn.Linear(in_features=(decoder_hidden_size + attention_projection_size),\n",
    "                      out_features=decoder_embedding_size),\n",
    "            nn.GELU(),\n",
    "            nn.Linear(in_features=decoder_embedding_size, out_features=vocab_size))\n",
    "\n",
    "        # Weight tying (From embedding layer)\n",
    "        self.char_prob[2].weight = self.embedding.weight\n",
    "        self.attention_projection_size = attention_projection_size\n",
    "\n",
    "    def lstm_step(self, input_word, hidden_state):\n",
    "        for i in range(len(self.lstm_cells)):\n",
    "            # Forward pass through each LSTMCell\n",
    "            hidden_state[i] = self.lstm_cells[i](input_word, hidden_state[i])\n",
    "            input_word = hidden_state[i][0]\n",
    "            input_word = self.lds[i](input_word)  # Keeps last lstm cell's output over that timestep\n",
    "        return input_word, hidden_state\n",
    "\n",
    "    def forward(self, batch_size, y=None, teacher_forcing_ratio=1):\n",
    "        # initial context tensor for time t = 0\n",
    "        attn_context = torch.zeros((batch_size, self.attention_projection_size)).to(DEVICE)\n",
    "\n",
    "        output_symbol = torch.zeros((batch_size,)).long().to(DEVICE)\n",
    "        output_symbol[:, ] = SOS_TOKEN  # Set it to SOS for time t = 0\n",
    "\n",
    "        raw_outputs = []\n",
    "        attention_plot = []\n",
    "\n",
    "        if y is None:\n",
    "            timesteps = self.max_timesteps\n",
    "            teacher_forcing_ratio = 0  # Why does it become zero?\n",
    "        else:\n",
    "            # Timesteps we are predicting for\n",
    "            timesteps = y.shape[1]\n",
    "\n",
    "        # Initializing hidden_states list\n",
    "        hidden_states_list = [None] * len(self.lstm_cells)\n",
    "\n",
    "        for ld in self.lds:\n",
    "            ld.delete_mask()\n",
    "\n",
    "        for t in range(timesteps):\n",
    "            p = np.random.random()  # generate a probability p between 0 and 1\n",
    "\n",
    "            # Take from y, else draw from probability distribution\n",
    "            if p < teacher_forcing_ratio and t > 0:\n",
    "                output_symbol = y[:, t - 1]\n",
    "\n",
    "            # Embed the character symbol\n",
    "            char_embed = self.embedding(output_symbol.long())\n",
    "\n",
    "            # Concatenate the character embedding and context from attention, as shown in the diagram\n",
    "            lstm_input = torch.concatenate((char_embed, attn_context), dim=1)\n",
    "\n",
    "            # Feed the input through LSTM Cells and attention.\n",
    "            rnn_out, hidden_states_list = self.lstm_step(lstm_input, hidden_states_list)\n",
    "\n",
    "            # Feed the resulting hidden state into attention\n",
    "            attn_context, attn_weights = self.attend.compute_context(rnn_out.unsqueeze(dim=1))\n",
    "            attn_context = attn_context.squeeze(dim=1)\n",
    "\n",
    "            # Concatenating the context from the attention module with the LSTM output hidden state\n",
    "            cdn_input = torch.concatenate((rnn_out, attn_context), dim=1)\n",
    "\n",
    "            # Calling CDN with cdn_input\n",
    "            raw_pred = self.char_prob(cdn_input.squeeze(dim=1))\n",
    "\n",
    "            # Generate a prediction for this timestep and collect it in output_symbols\n",
    "            output_symbol = torch.argmax(raw_pred, dim=1)\n",
    "\n",
    "            raw_outputs.append(raw_pred)  # for loss calculation\n",
    "            attention_plot.append(attn_weights)  # for plotting attention plot\n",
    "\n",
    "        attention_plot = torch.stack(attention_plot, dim=1)\n",
    "        raw_outputs = torch.stack(raw_outputs, dim=1)\n",
    "\n",
    "        return raw_outputs, attention_plot"
   ]
  },
  {
   "cell_type": "markdown",
   "metadata": {
    "id": "bgOQlDRI-E4z"
   },
   "source": [
    "## LAS"
   ]
  },
  {
   "cell_type": "markdown",
   "metadata": {
    "ExecuteTime": {
     "end_time": "2023-05-02T19:14:45.484432877Z",
     "start_time": "2023-05-02T19:14:45.481111577Z"
    },
    "id": "ZuAjQFlTBVED"
   },
   "source": [
    "Here we finally build the LAS model, comibining the listener, attender and speller together, we have given a template, but you are free to read the paper and implement it yourself."
   ]
  },
  {
   "cell_type": "code",
   "execution_count": 19,
   "metadata": {
    "ExecuteTime": {
     "end_time": "2023-05-03T03:37:54.433308927Z",
     "start_time": "2023-05-03T03:37:54.428531579Z"
    },
    "id": "scvB2cI-OSof"
   },
   "outputs": [],
   "source": [
    "class LAS(torch.nn.Module):\n",
    "    def __init__(self, vocab_size, encoder_hidden_size, decoder_hidden_size, decoder_embedding_size,\n",
    "                 attention_projection_size,\n",
    "                 max_timesteps):  # add parameters\n",
    "        super().__init__()\n",
    "\n",
    "        # Pass the right parameters here\n",
    "        self.listener = Listener(input_feature_size=27,\n",
    "                                 encoder_hidden_size=encoder_hidden_size)\n",
    "        self.attend = Attention(encoder_hidden_size=encoder_hidden_size,\n",
    "                                decoder_hidden_size=decoder_hidden_size,\n",
    "                                projection_size=attention_projection_size)\n",
    "        self.speller = Speller(attender=self.attend,\n",
    "                               vocab_size=vocab_size,\n",
    "                               encoder_hidden_size=encoder_hidden_size,\n",
    "                               decoder_embedding_size=decoder_embedding_size,\n",
    "                               attention_projection_size=attention_projection_size,\n",
    "                               decoder_hidden_size=decoder_hidden_size,\n",
    "                               max_timesteps=max_timesteps)\n",
    "\n",
    "    def forward(self, x, lx, y=None, teacher_forcing_ratio=1):\n",
    "        # Encode speech features\n",
    "        encoder_outputs, _ = self.listener(x, lx)\n",
    "\n",
    "        # We want to compute keys and values ahead of the decoding step, as they are constant for all timesteps\n",
    "        # Set keys and values using the encoder outputs\n",
    "        self.attend.set_key_value(encoder_outputs)\n",
    "\n",
    "        # Decode text with the speller using context from the attention\n",
    "        raw_outputs, attention_plots = self.speller(batch_size=x.shape[0], y=y, teacher_forcing_ratio=teacher_forcing_ratio)\n",
    "\n",
    "        return raw_outputs, attention_plots"
   ]
  },
  {
   "cell_type": "markdown",
   "metadata": {
    "id": "bPZD3vqdUisj"
   },
   "source": [
    "# Model Setup "
   ]
  },
  {
   "cell_type": "code",
   "execution_count": 20,
   "metadata": {
    "ExecuteTime": {
     "end_time": "2023-05-03T03:37:58.443219358Z",
     "start_time": "2023-05-03T03:37:57.214852608Z"
    },
    "id": "a9LN0l5VUk_s"
   },
   "outputs": [
    {
     "name": "stdout",
     "output_type": "stream",
     "text": [
      "LAS(\n",
      "  (listener): Listener(\n",
      "    (embedding): Sequential(\n",
      "      (0): PermuteBlock()\n",
      "      (1): Resnet34ResidualBlock1d(\n",
      "        (cnn1): Sequential(\n",
      "          (0): Conv1d(27, 1024, kernel_size=(3,), stride=(1,), padding=(1,), bias=False)\n",
      "          (1): BatchNorm1d(1024, eps=1e-05, momentum=0.1, affine=True, track_running_stats=True)\n",
      "          (2): ReLU(inplace=True)\n",
      "        )\n",
      "        (cnn2): Sequential(\n",
      "          (0): Conv1d(1024, 1024, kernel_size=(3,), stride=(1,), padding=(1,), bias=False)\n",
      "          (1): BatchNorm1d(1024, eps=1e-05, momentum=0.1, affine=True, track_running_stats=True)\n",
      "        )\n",
      "        (shortcut): Sequential(\n",
      "          (0): Conv1d(27, 1024, kernel_size=(1,), stride=(1,), bias=False)\n",
      "          (1): BatchNorm1d(1024, eps=1e-05, momentum=0.1, affine=True, track_running_stats=True)\n",
      "        )\n",
      "      )\n",
      "      (2): PermuteBlock()\n",
      "    )\n",
      "    (pBLSTMs): Sequential(\n",
      "      (0): pBLSTM(\n",
      "        (ld): LockedDropout(p=0.2)\n",
      "        (ln): LayerNorm((2048,), eps=1e-06, elementwise_affine=True)\n",
      "        (blstm): LSTM(2048, 640, num_layers=2, batch_first=True, bidirectional=True)\n",
      "      )\n",
      "      (1): pBLSTM(\n",
      "        (ld): LockedDropout(p=0.2)\n",
      "        (ln): LayerNorm((2560,), eps=1e-06, elementwise_affine=True)\n",
      "        (blstm): LSTM(2560, 640, num_layers=2, batch_first=True, bidirectional=True)\n",
      "      )\n",
      "    )\n",
      "  )\n",
      "  (attend): Attention(\n",
      "    (VW): Linear(in_features=1280, out_features=512, bias=True)\n",
      "    (KW): Linear(in_features=1280, out_features=512, bias=True)\n",
      "    (QW): Linear(in_features=512, out_features=512, bias=True)\n",
      "  )\n",
      "  (speller): Speller(\n",
      "    (attend): Attention(\n",
      "      (VW): Linear(in_features=1280, out_features=512, bias=True)\n",
      "      (KW): Linear(in_features=1280, out_features=512, bias=True)\n",
      "      (QW): Linear(in_features=512, out_features=512, bias=True)\n",
      "    )\n",
      "    (embedding): Embedding(31, 512)\n",
      "    (lstm_cells): Sequential(\n",
      "      (0): LSTMCell(1024, 512)\n",
      "      (1): LSTMCell(512, 512)\n",
      "      (2): LSTMCell(512, 512)\n",
      "      (3): LSTMCell(512, 512)\n",
      "    )\n",
      "    (lds): Sequential(\n",
      "      (0): LockedDropoutCell()\n",
      "      (1): LockedDropoutCell()\n",
      "      (2): LockedDropoutCell()\n",
      "      (3): LockedDropoutCell()\n",
      "    )\n",
      "    (char_prob): Sequential(\n",
      "      (0): Linear(in_features=1024, out_features=512, bias=True)\n",
      "      (1): GELU(approximate='none')\n",
      "      (2): Linear(in_features=512, out_features=31, bias=True)\n",
      "    )\n",
      "  )\n",
      ")\n"
     ]
    },
    {
     "data": {
      "text/plain": [
       "======================================================================\n",
       "Layer (type:depth-idx)                        Param #\n",
       "======================================================================\n",
       "LAS                                           --\n",
       "├─Listener: 1-1                               --\n",
       "│    └─Sequential: 2-1                        --\n",
       "│    │    └─PermuteBlock: 3-1                 --\n",
       "│    │    └─Resnet34ResidualBlock1d: 3-2      3,262,464\n",
       "│    │    └─PermuteBlock: 3-3                 --\n",
       "│    └─Sequential: 2-2                        --\n",
       "│    │    └─pBLSTM: 3-4                       23,617,536\n",
       "│    │    └─pBLSTM: 3-5                       26,240,000\n",
       "├─Attention: 1-2                              --\n",
       "│    └─Linear: 2-3                            655,872\n",
       "│    └─Linear: 2-4                            655,872\n",
       "│    └─Linear: 2-5                            262,656\n",
       "├─Speller: 1-3                                1,558,528\n",
       "│    └─Attention: 2-6                         (recursive)\n",
       "│    │    └─Linear: 3-6                       (recursive)\n",
       "│    │    └─Linear: 3-7                       (recursive)\n",
       "│    │    └─Linear: 3-8                       (recursive)\n",
       "│    └─Embedding: 2-7                         15,872\n",
       "│    └─Sequential: 2-8                        --\n",
       "│    │    └─LSTMCell: 3-9                     3,149,824\n",
       "│    │    └─LSTMCell: 3-10                    2,101,248\n",
       "│    │    └─LSTMCell: 3-11                    2,101,248\n",
       "│    │    └─LSTMCell: 3-12                    2,101,248\n",
       "│    └─Sequential: 2-9                        --\n",
       "│    │    └─LockedDropoutCell: 3-13           --\n",
       "│    │    └─LockedDropoutCell: 3-14           --\n",
       "│    │    └─LockedDropoutCell: 3-15           --\n",
       "│    │    └─LockedDropoutCell: 3-16           --\n",
       "│    └─Sequential: 2-10                       --\n",
       "│    │    └─Linear: 3-17                      524,800\n",
       "│    │    └─GELU: 3-18                        --\n",
       "│    │    └─Linear: 3-19                      15,903\n",
       "======================================================================\n",
       "Total params: 66,263,071\n",
       "Trainable params: 66,263,071\n",
       "Non-trainable params: 0\n",
       "======================================================================"
      ]
     },
     "execution_count": 20,
     "metadata": {},
     "output_type": "execute_result"
    }
   ],
   "source": [
    "model = LAS(\n",
    "    vocab_size=len(VOCAB),\n",
    "    encoder_hidden_size=640,\n",
    "    decoder_hidden_size=512,\n",
    "    decoder_embedding_size=512,\n",
    "    attention_projection_size=512,\n",
    "    max_timesteps=config['max_timesteps']\n",
    ")\n",
    "\n",
    "model = model.to(DEVICE)\n",
    "print(model)\n",
    "\n",
    "x = x.float().to(DEVICE)\n",
    "y = y.to(DEVICE)\n",
    "\n",
    "summary(model)"
   ]
  },
  {
   "cell_type": "markdown",
   "metadata": {
    "id": "23DMfXsaU6kj"
   },
   "source": [
    "# Loss Function, Optimizers, Scheduler"
   ]
  },
  {
   "cell_type": "code",
   "execution_count": 21,
   "metadata": {
    "ExecuteTime": {
     "end_time": "2023-05-03T03:38:05.732943931Z",
     "start_time": "2023-05-03T03:38:05.724317757Z"
    },
    "id": "216ukmHbU-ol"
   },
   "outputs": [],
   "source": [
    "optimizer = torch.optim.AdamW(model.parameters(), lr=config['lr'], weight_decay=config['adamw_weight_decay'])\n",
    "\n",
    "criterion = torch.nn.CrossEntropyLoss(reduction='mean', ignore_index=PAD_TOKEN)\n",
    "\n",
    "scheduler = torch.optim.lr_scheduler.ReduceLROnPlateau(optimizer, **config['rlrop_params'])\n",
    "\n",
    "scaler = torch.cuda.amp.GradScaler()"
   ]
  },
  {
   "cell_type": "markdown",
   "metadata": {
    "ExecuteTime": {
     "end_time": "2023-05-02T19:14:51.281582751Z",
     "start_time": "2023-05-02T19:14:51.275889991Z"
    },
    "id": "ZWQnB8lUVY4f"
   },
   "source": [
    "# Levenshtein Distance"
   ]
  },
  {
   "cell_type": "code",
   "execution_count": 22,
   "metadata": {
    "ExecuteTime": {
     "end_time": "2023-05-03T03:18:54.431004828Z",
     "start_time": "2023-05-03T03:18:54.428431300Z"
    },
    "id": "rSsiCdxPVeZW"
   },
   "outputs": [],
   "source": [
    "# We have given you this utility function which takes a sequence of indices and converts them to a list of characters\n",
    "def indices_to_chars(indices, vocab):\n",
    "    tokens = []\n",
    "    for i in indices: # This loops through all the indices\n",
    "        if int(i) == SOS_TOKEN: # If SOS is encountered, dont add it to the final list\n",
    "            continue\n",
    "        elif int(i) == EOS_TOKEN: # If EOS is encountered, stop the decoding process\n",
    "            break\n",
    "        else:\n",
    "            tokens.append(vocab[int(i)])\n",
    "    return tokens\n",
    "\n",
    "# To make your life more easier, we have given the Levenshtein distantce / Edit distance calculation code\n",
    "def calc_edit_distance(predictions, y, ly, vocab= VOCAB, print_example= False):\n",
    "\n",
    "    dist                = 0\n",
    "    batch_size, seq_len = predictions.shape\n",
    "\n",
    "    for batch_idx in range(batch_size): \n",
    "\n",
    "        y_sliced    = indices_to_chars(y[batch_idx,0:ly[batch_idx]], vocab)\n",
    "        pred_sliced = indices_to_chars(predictions[batch_idx], vocab)\n",
    "\n",
    "        # Strings - When you are using characters from the AudioDataset\n",
    "        y_string    = ''.join(y_sliced)\n",
    "        pred_string = ''.join(pred_sliced)\n",
    "        \n",
    "        dist        += Levenshtein.distance(pred_string, y_string)\n",
    "        # Comment the above and uncomment below for toy dataset, as the toy dataset has a list of phonemes to compare\n",
    "        # dist      += Levenshtein.distance(y_sliced, pred_sliced)\n",
    "\n",
    "    if print_example: \n",
    "        # Print y_sliced and pred_sliced if you are using the toy dataset\n",
    "        print(\"Ground Truth : \", y_string)\n",
    "        print(\"Prediction   : \", pred_string)\n",
    "        \n",
    "    dist/=batch_size\n",
    "    return dist"
   ]
  },
  {
   "cell_type": "markdown",
   "metadata": {
    "ExecuteTime": {
     "end_time": "2023-05-02T19:15:08.765234674Z",
     "start_time": "2023-05-02T19:14:53.371365196Z"
    },
    "id": "Pu4MrSMUUIyp"
   },
   "source": [
    "# Train and Validation functions \n"
   ]
  },
  {
   "cell_type": "code",
   "execution_count": 23,
   "metadata": {
    "ExecuteTime": {
     "end_time": "2023-05-03T03:38:09.118982954Z",
     "start_time": "2023-05-03T03:38:09.077662193Z"
    },
    "id": "sKOdI0J5Tpem"
   },
   "outputs": [],
   "source": [
    "def train(model, dataloader, criterion, optimizer, teacher_forcing_rate):\n",
    "    model.train()\n",
    "    batch_bar = tqdm(total=len(dataloader), dynamic_ncols=True, leave=False, position=0, desc='Train')\n",
    "\n",
    "    running_loss = 0.0\n",
    "    running_perplexity = 0.0\n",
    "\n",
    "    for i, (x, y, lx, ly) in enumerate(dataloader):\n",
    "        optimizer.zero_grad()\n",
    "\n",
    "        x, y = x.to(DEVICE), y.to(DEVICE)\n",
    "\n",
    "        with torch.cuda.amp.autocast():\n",
    "            raw_predictions, attention_plot = model(x, lx, y=y, teacher_forcing_ratio=teacher_forcing_rate)\n",
    "\n",
    "            outs = raw_predictions.reshape(-1, raw_predictions.shape[-1])\n",
    "            y = y.reshape(-1).long()\n",
    "            loss = criterion(outs, y)\n",
    "\n",
    "            perplexity = torch.exp(loss)  # Perplexity is defined the exponential of the loss\n",
    "\n",
    "            running_loss += loss.item()\n",
    "            running_perplexity += perplexity.item()\n",
    "\n",
    "        # Backward on the masked loss\n",
    "        scaler.scale(loss).backward()\n",
    "\n",
    "        scaler.step(optimizer)\n",
    "        scaler.update()\n",
    "\n",
    "        batch_bar.set_postfix(\n",
    "            loss=\"{:.04f}\".format(running_loss / (i + 1)),\n",
    "            perplexity=\"{:.04f}\".format(running_perplexity / (i + 1)),\n",
    "            lr=\"{:.04f}\".format(float(optimizer.param_groups[0]['lr'])),\n",
    "            tf_rate='{:.02f}'.format(teacher_forcing_rate))\n",
    "        batch_bar.update()\n",
    "\n",
    "        del x, y, lx, ly, outs, raw_predictions\n",
    "        torch.cuda.empty_cache()\n",
    "\n",
    "    running_loss /= len(dataloader)\n",
    "    running_perplexity /= len(dataloader)\n",
    "    batch_bar.close()\n",
    "\n",
    "    return running_loss, running_perplexity, attention_plot"
   ]
  },
  {
   "cell_type": "code",
   "execution_count": 24,
   "metadata": {
    "ExecuteTime": {
     "end_time": "2023-05-03T03:25:55.409588357Z",
     "start_time": "2023-05-03T03:25:55.386102381Z"
    },
    "id": "YmBLhP8cWm6n"
   },
   "outputs": [],
   "source": [
    "def validate(model, dataloader):\n",
    "    model.eval()\n",
    "\n",
    "    batch_bar = tqdm(total=len(dataloader), dynamic_ncols=True, position=0, leave=False, desc=\"Val\")\n",
    "\n",
    "    running_lev_dist = 0.0\n",
    "    for i, (x, y, lx, ly) in enumerate(dataloader):\n",
    "        x, y, lx, ly = x.to(DEVICE), y.to(DEVICE), lx, ly\n",
    "\n",
    "        with torch.inference_mode():\n",
    "            raw_predictions, _ = model(x, lx, y=None)\n",
    "\n",
    "        # Greedy Decoding\n",
    "        # Get the most likely character from each distribution in the batch\n",
    "        greedy_predictions = torch.argmax(raw_predictions, dim=2)\n",
    "\n",
    "        # Calculate Levenshtein Distance\n",
    "        if i == len(dataloader) - 1:\n",
    "            running_lev_dist += calc_edit_distance(greedy_predictions, y, ly, VOCAB, print_example=True)\n",
    "        else:   \n",
    "            running_lev_dist += calc_edit_distance(greedy_predictions, y, ly, VOCAB, print_example=False)\n",
    "\n",
    "        batch_bar.set_postfix(\n",
    "            dist=\"{:.04f}\".format(running_lev_dist / (i + 1)))\n",
    "        batch_bar.update()\n",
    "\n",
    "        del x, y, lx, ly, raw_predictions, greedy_predictions\n",
    "        torch.cuda.empty_cache()\n",
    "\n",
    "    batch_bar.close()\n",
    "    running_lev_dist /= len(dataloader)\n",
    "\n",
    "    return running_lev_dist"
   ]
  },
  {
   "cell_type": "markdown",
   "metadata": {
    "id": "JmZhxhNseaIr"
   },
   "source": [
    "# Experiment"
   ]
  },
  {
   "cell_type": "code",
   "execution_count": 25,
   "metadata": {
    "id": "sZcCV2BIW2R6"
   },
   "outputs": [
    {
     "name": "stderr",
     "output_type": "stream",
     "text": [
      "Failed to detect the name of this notebook, you can set it manually with the WANDB_NOTEBOOK_NAME environment variable to enable code saving.\n",
      "\u001B[34m\u001B[1mwandb\u001B[0m: Currently logged in as: \u001B[33mapillay\u001B[0m (\u001B[33maudio-idl\u001B[0m). Use \u001B[1m`wandb login --relogin`\u001B[0m to force relogin\n",
      "\u001B[34m\u001B[1mwandb\u001B[0m: \u001B[33mWARNING\u001B[0m If you're specifying your api key in code, ensure this code is not shared publicly.\n",
      "\u001B[34m\u001B[1mwandb\u001B[0m: \u001B[33mWARNING\u001B[0m Consider setting the WANDB_API_KEY environment variable, or running `wandb login` from the command line.\n",
      "\u001B[34m\u001B[1mwandb\u001B[0m: Appending key for api.wandb.ai to your netrc file: /root/.netrc\n"
     ]
    },
    {
     "data": {
      "text/plain": [
       "True"
      ]
     },
     "execution_count": 25,
     "metadata": {},
     "output_type": "execute_result"
    }
   ],
   "source": [
    "import wandb\n",
    "\n",
    "wandb.login(key=\"<key>\")"
   ]
  },
  {
   "cell_type": "code",
   "execution_count": 26,
   "metadata": {},
   "outputs": [
    {
     "data": {
      "text/html": [
       "Tracking run with wandb version 0.15.1"
      ],
      "text/plain": [
       "<IPython.core.display.HTML object>"
      ]
     },
     "metadata": {},
     "output_type": "display_data"
    },
    {
     "data": {
      "text/html": [
       "Run data is saved locally in <code>/wandb/run-20230505_172239-jvqqfyeq</code>"
      ],
      "text/plain": [
       "<IPython.core.display.HTML object>"
      ]
     },
     "metadata": {},
     "output_type": "display_data"
    },
    {
     "data": {
      "text/html": [
       "Syncing run <strong><a href='https://wandb.ai/audio-idl/hw4p2-ablations/runs/jvqqfyeq' target=\"_blank\">v3090-66m-resume</a></strong> to <a href='https://wandb.ai/audio-idl/hw4p2-ablations' target=\"_blank\">Weights & Biases</a> (<a href='https://wandb.me/run' target=\"_blank\">docs</a>)<br/>"
      ],
      "text/plain": [
       "<IPython.core.display.HTML object>"
      ]
     },
     "metadata": {},
     "output_type": "display_data"
    },
    {
     "data": {
      "text/html": [
       " View project at <a href='https://wandb.ai/audio-idl/hw4p2-ablations' target=\"_blank\">https://wandb.ai/audio-idl/hw4p2-ablations</a>"
      ],
      "text/plain": [
       "<IPython.core.display.HTML object>"
      ]
     },
     "metadata": {},
     "output_type": "display_data"
    },
    {
     "data": {
      "text/html": [
       " View run at <a href='https://wandb.ai/audio-idl/hw4p2-ablations/runs/jvqqfyeq' target=\"_blank\">https://wandb.ai/audio-idl/hw4p2-ablations/runs/jvqqfyeq</a>"
      ],
      "text/plain": [
       "<IPython.core.display.HTML object>"
      ]
     },
     "metadata": {},
     "output_type": "display_data"
    }
   ],
   "source": [
    "run = wandb.init(\n",
    "    name=\"v3090-66m-resume\",  ## Wandb creates random run names if you skip this field\n",
    "    reinit=True,  ### Allows reinitalizing runs when you re-run this cell\n",
    "    # run_id = ### Insert specific run id here if you want to resume a previous run\n",
    "    # resume = \"must\" ### You need this to resume previous runs, but comment out reinit = True when using this\n",
    "    project=\"hw4p2-ablations\",  ### Project should be created in your wandb account\n",
    "    config=config  ### Wandb Config for your run\n",
    ")"
   ]
  },
  {
   "cell_type": "code",
   "execution_count": 27,
   "metadata": {
    "ExecuteTime": {
     "end_time": "2023-05-03T03:19:02.831685507Z",
     "start_time": "2023-05-03T03:19:02.822572909Z"
    }
   },
   "outputs": [],
   "source": [
    "def save_model(model, optimizer, scheduler, metric, epoch, path):\n",
    "    torch.save(\n",
    "        {'model_state_dict': model.state_dict(),\n",
    "         'optimizer_state_dict': optimizer.state_dict(),\n",
    "         'scheduler_state_dict': scheduler.state_dict(),\n",
    "         metric[0]: metric[1],\n",
    "         'epoch': epoch},\n",
    "        path\n",
    "    )\n",
    "\n",
    "\n",
    "def load_model(path, model, metric='val_ld', optimizer=None, scheduler=None):\n",
    "    checkpoint = torch.load(path)\n",
    "    model.load_state_dict(checkpoint['model_state_dict'])\n",
    "\n",
    "    if optimizer != None:\n",
    "        optimizer.load_state_dict(checkpoint['optimizer_state_dict'])\n",
    "    if scheduler != None:\n",
    "        scheduler.load_state_dict(checkpoint['scheduler_state_dict'])\n",
    "\n",
    "    epoch = checkpoint['epoch']\n",
    "    metric = checkpoint[metric]\n",
    "\n",
    "    return [model, optimizer, scheduler, epoch, metric]"
   ]
  },
  {
   "cell_type": "code",
   "execution_count": 28,
   "metadata": {
    "ExecuteTime": {
     "end_time": "2023-05-03T03:19:05.336285429Z",
     "start_time": "2023-05-03T03:19:05.328248184Z"
    }
   },
   "outputs": [],
   "source": [
    "# This is for checkpointing, if you're doing it over multiple sessions\n",
    "\n",
    "last_epoch_completed = 0\n",
    "start = last_epoch_completed\n",
    "end = config[\"epochs\"]\n",
    "min_val_ld = float(\"inf\")  # if you're restarting from some checkpoint, use what you saw there.\n",
    "epoch_model_path = './checkpoint_epoch.pth'\n",
    "best_model_path = './checkpoint_best.pth'\n",
    "epoch_model_path_66m = './checkpoint_epoch_66m.pth'"
   ]
  },
  {
   "cell_type": "code",
   "execution_count": 38,
   "metadata": {},
   "outputs": [
    {
     "name": "stdout",
     "output_type": "stream",
     "text": [
      "LAS(\n",
      "  (listener): Listener(\n",
      "    (embedding): Sequential(\n",
      "      (0): PermuteBlock()\n",
      "      (1): Resnet34ResidualBlock1d(\n",
      "        (cnn1): Sequential(\n",
      "          (0): Conv1d(27, 1024, kernel_size=(3,), stride=(1,), padding=(1,), bias=False)\n",
      "          (1): BatchNorm1d(1024, eps=1e-05, momentum=0.1, affine=True, track_running_stats=True)\n",
      "          (2): ReLU(inplace=True)\n",
      "        )\n",
      "        (cnn2): Sequential(\n",
      "          (0): Conv1d(1024, 1024, kernel_size=(3,), stride=(1,), padding=(1,), bias=False)\n",
      "          (1): BatchNorm1d(1024, eps=1e-05, momentum=0.1, affine=True, track_running_stats=True)\n",
      "        )\n",
      "        (shortcut): Sequential(\n",
      "          (0): Conv1d(27, 1024, kernel_size=(1,), stride=(1,), bias=False)\n",
      "          (1): BatchNorm1d(1024, eps=1e-05, momentum=0.1, affine=True, track_running_stats=True)\n",
      "        )\n",
      "      )\n",
      "      (2): PermuteBlock()\n",
      "    )\n",
      "    (pBLSTMs): Sequential(\n",
      "      (0): pBLSTM(\n",
      "        (ld): LockedDropout(p=0.2)\n",
      "        (ln): LayerNorm((2048,), eps=1e-06, elementwise_affine=True)\n",
      "        (blstm): LSTM(2048, 640, num_layers=2, batch_first=True, bidirectional=True)\n",
      "      )\n",
      "      (1): pBLSTM(\n",
      "        (ld): LockedDropout(p=0.2)\n",
      "        (ln): LayerNorm((2560,), eps=1e-06, elementwise_affine=True)\n",
      "        (blstm): LSTM(2560, 640, num_layers=2, batch_first=True, bidirectional=True)\n",
      "      )\n",
      "    )\n",
      "  )\n",
      "  (attend): Attention(\n",
      "    (VW): Linear(in_features=1280, out_features=512, bias=True)\n",
      "    (KW): Linear(in_features=1280, out_features=512, bias=True)\n",
      "    (QW): Linear(in_features=512, out_features=512, bias=True)\n",
      "  )\n",
      "  (speller): Speller(\n",
      "    (attend): Attention(\n",
      "      (VW): Linear(in_features=1280, out_features=512, bias=True)\n",
      "      (KW): Linear(in_features=1280, out_features=512, bias=True)\n",
      "      (QW): Linear(in_features=512, out_features=512, bias=True)\n",
      "    )\n",
      "    (embedding): Embedding(31, 512)\n",
      "    (lstm_cells): Sequential(\n",
      "      (0): LSTMCell(1024, 512)\n",
      "      (1): LSTMCell(512, 512)\n",
      "      (2): LSTMCell(512, 512)\n",
      "      (3): LSTMCell(512, 512)\n",
      "    )\n",
      "    (lds): Sequential(\n",
      "      (0): LockedDropoutCell()\n",
      "      (1): LockedDropoutCell()\n",
      "      (2): LockedDropoutCell()\n",
      "      (3): LockedDropoutCell()\n",
      "    )\n",
      "    (char_prob): Sequential(\n",
      "      (0): Linear(in_features=1024, out_features=512, bias=True)\n",
      "      (1): GELU(approximate='none')\n",
      "      (2): Linear(in_features=512, out_features=31, bias=True)\n",
      "    )\n",
      "  )\n",
      ")\n"
     ]
    },
    {
     "data": {
      "text/plain": [
       "======================================================================\n",
       "Layer (type:depth-idx)                        Param #\n",
       "======================================================================\n",
       "LAS                                           --\n",
       "├─Listener: 1-1                               --\n",
       "│    └─Sequential: 2-1                        --\n",
       "│    │    └─PermuteBlock: 3-1                 --\n",
       "│    │    └─Resnet34ResidualBlock1d: 3-2      3,262,464\n",
       "│    │    └─PermuteBlock: 3-3                 --\n",
       "│    └─Sequential: 2-2                        --\n",
       "│    │    └─pBLSTM: 3-4                       23,617,536\n",
       "│    │    └─pBLSTM: 3-5                       26,240,000\n",
       "├─Attention: 1-2                              --\n",
       "│    └─Linear: 2-3                            655,872\n",
       "│    └─Linear: 2-4                            655,872\n",
       "│    └─Linear: 2-5                            262,656\n",
       "├─Speller: 1-3                                1,558,528\n",
       "│    └─Attention: 2-6                         (recursive)\n",
       "│    │    └─Linear: 3-6                       (recursive)\n",
       "│    │    └─Linear: 3-7                       (recursive)\n",
       "│    │    └─Linear: 3-8                       (recursive)\n",
       "│    └─Embedding: 2-7                         15,872\n",
       "│    └─Sequential: 2-8                        --\n",
       "│    │    └─LSTMCell: 3-9                     3,149,824\n",
       "│    │    └─LSTMCell: 3-10                    2,101,248\n",
       "│    │    └─LSTMCell: 3-11                    2,101,248\n",
       "│    │    └─LSTMCell: 3-12                    2,101,248\n",
       "│    └─Sequential: 2-9                        --\n",
       "│    │    └─LockedDropoutCell: 3-13           --\n",
       "│    │    └─LockedDropoutCell: 3-14           --\n",
       "│    │    └─LockedDropoutCell: 3-15           --\n",
       "│    │    └─LockedDropoutCell: 3-16           --\n",
       "│    └─Sequential: 2-10                       --\n",
       "│    │    └─Linear: 3-17                      524,800\n",
       "│    │    └─GELU: 3-18                        --\n",
       "│    │    └─Linear: 3-19                      15,903\n",
       "======================================================================\n",
       "Total params: 66,263,071\n",
       "Trainable params: 66,263,071\n",
       "Non-trainable params: 0\n",
       "======================================================================"
      ]
     },
     "execution_count": 38,
     "metadata": {},
     "output_type": "execute_result"
    }
   ],
   "source": [
    "# del model\n",
    "model, _, _, _, min_val_ld = load_model(epoch_model_path, model, 'val_ld')\n",
    "print(model)\n",
    "summary(model)"
   ]
  },
  {
   "cell_type": "code",
   "execution_count": 30,
   "metadata": {
    "ExecuteTime": {
     "end_time": "2023-05-03T03:19:06.861252671Z",
     "start_time": "2023-05-03T03:19:06.849276702Z"
    },
    "id": "IgJdA9jrZwid"
   },
   "outputs": [],
   "source": [
    "def plot_attention(attention):\n",
    "    # Function for plotting attention matrix\n",
    "    plt.clf()\n",
    "    attention_matrix = sns.heatmap(attention, cmap='GnBu')\n",
    "    fig = attention_matrix.get_figure()\n",
    "    plt.show()\n",
    "    return fig"
   ]
  },
  {
   "cell_type": "code",
   "execution_count": 31,
   "metadata": {
    "ExecuteTime": {
     "end_time": "2023-05-03T03:19:08.789265585Z",
     "start_time": "2023-05-03T03:19:08.745571069Z"
    }
   },
   "outputs": [],
   "source": [
    "def step_teacher_forcing_rate(epoch, teacher_forcing_rate):\n",
    "    if epoch % (config['tf_cooldown_period']-1) == 0:\n",
    "        return teacher_forcing_rate * config['tf_decay_factor']\n",
    "    return teacher_forcing_rate"
   ]
  },
  {
   "cell_type": "code",
   "execution_count": null,
   "metadata": {
    "ExecuteTime": {
     "end_time": "2023-05-03T03:39:47.936991124Z",
     "start_time": "2023-05-03T03:38:15.623065410Z"
    },
    "id": "eDWGFIcjddz-"
   },
   "outputs": [
    {
     "name": "stdout",
     "output_type": "stream",
     "text": [
      "\n",
      "Epoch: 1/500\n"
     ]
    },
    {
     "name": "stderr",
     "output_type": "stream",
     "text": [
      "Train:  70%|███████   | 157/223 [07:00<02:53,  2.63s/it, loss=0.0714, lr=0.0001, perplexity=1.0751, tf_rate=0.50]"
     ]
    }
   ],
   "source": [
    "gc.collect()\n",
    "torch.cuda.empty_cache()\n",
    "\n",
    "teacher_forcing_rate = config['tf_rate']\n",
    "for epoch in range(0, config['epochs']):\n",
    "\n",
    "    print(\"\\nEpoch: {}/{}\".format(epoch + 1, config['epochs']))\n",
    "\n",
    "    curr_lr = float(optimizer.param_groups[0]['lr'])\n",
    "\n",
    "    train_loss, train_perplexity, attention_plot = train(model, train_loader, criterion, optimizer, teacher_forcing_rate)\n",
    "    torch.cuda.empty_cache()\n",
    "\n",
    "    print(\n",
    "        \"Epoch {}/{}: Train Loss {:.04f}\\t Train Perplexity {:.04f}\\t LR = {:.04f}\\t Teacher Forcing Rate {:.04f}\".format(\n",
    "            epoch + 1,\n",
    "            config['epochs'],\n",
    "            train_loss,\n",
    "            train_perplexity,\n",
    "            curr_lr,\n",
    "            teacher_forcing_rate))\n",
    "\n",
    "    val_ld = validate(model, val_loader)\n",
    "    torch.cuda.empty_cache()\n",
    "\n",
    "    print(\"\\nVal LD {:.04f}\\t\".format(val_ld))\n",
    "\n",
    "    # Call train and validate, get attention weights from training\n",
    "\n",
    "    # Print your metrics\n",
    "\n",
    "    # Plot Attention for a single item in the batch\n",
    "    attention_fig = plot_attention(attention_plot[0].squeeze().cpu().detach().numpy())\n",
    "\n",
    "    # Log metrics to Wandb\n",
    "    wandb.log({\n",
    "        'Train LD': train_loss,\n",
    "        'Train Perplexity': train_perplexity,\n",
    "        'Valid LD': val_ld,\n",
    "        'LR': curr_lr,\n",
    "        'Teacher Forcing Rate': teacher_forcing_rate,\n",
    "        'Attention Matrix': wandb.Image(attention_fig)\n",
    "    })\n",
    "\n",
    "    # Optional: Scheduler Step / Teacher Force Schedule Step\n",
    "    scheduler.step(val_ld)\n",
    "    teacher_forcing_rate = step_teacher_forcing_rate(epoch, teacher_forcing_rate)\n",
    "\n",
    "    save_model(model, optimizer, scheduler, ['val_ld', val_ld], epoch, epoch_model_path)\n",
    "    wandb.save(epoch_model_path)\n",
    "    print(\"Saved epoch model\")\n",
    "\n",
    "    if val_ld <= min_val_ld:\n",
    "        min_val_ld = val_ld\n",
    "        save_model(model, optimizer, scheduler, ['val_ld', val_ld], epoch, best_model_path)\n",
    "        wandb.save(best_model_path)\n",
    "        print(\"Saved best model\")"
   ]
  },
  {
   "cell_type": "markdown",
   "metadata": {
    "ExecuteTime": {
     "end_time": "2023-05-02T19:15:20.841205158Z",
     "start_time": "2023-05-02T19:15:20.837893465Z"
    },
    "id": "hgFYFaBGeBqM"
   },
   "source": [
    "# Testing"
   ]
  },
  {
   "cell_type": "code",
   "execution_count": 36,
   "metadata": {},
   "outputs": [],
   "source": [
    "def test(model, dataloader):\n",
    "    model.eval()\n",
    "\n",
    "    predictions = []\n",
    "    for i, (x, lx) in enumerate(tqdm(dataloader, desc=\"Running Test\")):\n",
    "        x, lx = x.to(DEVICE), lx\n",
    "\n",
    "        with torch.inference_mode():\n",
    "            raw_predictions, _ = model(x, lx, y=None)\n",
    "\n",
    "        # Greedy Decoding\n",
    "        # Get the most likely character from each distribution in the batch\n",
    "        greedy_predictions = torch.argmax(raw_predictions, dim=2)\n",
    "\n",
    "        for prediction_i in greedy_predictions:\n",
    "            char = indices_to_chars(prediction_i, VOCAB)\n",
    "            chars = ''.join(char)\n",
    "            predictions.append(chars)\n",
    "\n",
    "        del x, lx, raw_predictions, greedy_predictions\n",
    "        torch.cuda.empty_cache()\n",
    "\n",
    "    return predictions"
   ]
  },
  {
   "cell_type": "code",
   "execution_count": 42,
   "metadata": {},
   "outputs": [
    {
     "name": "stdout",
     "output_type": "stream",
     "text": [
      "Warning: Looks like you're using an outdated API Version, please consider updating (server 1.5.13 / client 1.5.8)\n",
      "100%|█████████████████████████████████████████| 289k/289k [00:00<00:00, 555kB/s]\n",
      "Successfully submitted to Attention-Based Speech Recognition (Slack)"
     ]
    }
   ],
   "source": [
    "import pandas as pd\n",
    "\n",
    "predictions = test(model, test_loader)\n",
    "\n",
    "df = pd.DataFrame()\n",
    "df['label'] = predictions\n",
    "df['index'] = df.index\n",
    "df.to_csv('submission.csv', index=False)\n",
    "\n",
    "!kaggle competitions submit -c attention-based-speech-recognition-slack -f submission.csv -m \"I made it!\""
   ]
  }
 ],
 "metadata": {
  "colab": {
   "provenance": []
  },
  "kernelspec": {
   "display_name": "Python 3 (ipykernel)",
   "language": "python",
   "name": "python3"
  },
  "language_info": {
   "codemirror_mode": {
    "name": "ipython",
    "version": 3
   },
   "file_extension": ".py",
   "mimetype": "text/x-python",
   "name": "python",
   "nbconvert_exporter": "python",
   "pygments_lexer": "ipython3",
   "version": "3.10.9"
  }
 },
 "nbformat": 4,
 "nbformat_minor": 1
}
